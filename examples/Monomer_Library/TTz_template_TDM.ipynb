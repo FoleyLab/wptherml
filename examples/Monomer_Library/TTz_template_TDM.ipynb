{
 "cells": [
  {
   "cell_type": "markdown",
   "id": "a356a68c",
   "metadata": {},
   "source": [
    "# Duplicate BEFORE adding in code!!!"
   ]
  },
  {
   "cell_type": "code",
   "execution_count": null,
   "id": "3f5faf2d",
   "metadata": {},
   "outputs": [],
   "source": [
    "import psi4\n",
    "import numpy as np\n",
    "from scipy.interpolate import InterpolatedUnivariateSpline\n",
    "from numpy import linalg as LA\n",
    "from psi4.driver.procrouting.response.scf_response import tdscf_excitations\n",
    "import nglview"
   ]
  },
  {
   "cell_type": "code",
   "execution_count": null,
   "id": "93e6fbfc",
   "metadata": {},
   "outputs": [],
   "source": [
    "# Add your monomer geometry in Cartesian Coordinates here!\n",
    "monomer = psi4.geometry(\"\"\" \n",
    "H -1.5136020000 0.1082140000 2.9198970000 \n",
    "C -1.8598950000 0.1646600000 1.8912490000 \n",
    "C -3.2429530000 0.1734290000 1.6748860000 \n",
    "H -3.9236060000 0.1258810000 2.5215730000 \n",
    "C -3.7498080000 0.2422610000 0.3802920000 \n",
    "H -4.8239440000 0.2489000000 0.2141500000 \n",
    "C -2.8762090000 0.3019230000 -0.7004610000 \n",
    "H -3.2642610000 0.3553320000 -1.7144290000 \n",
    "C -1.4954180000 0.2930010000 -0.4829770000 \n",
    "H -0.8303580000 0.3402280000 -1.3447470000 \n",
    "C -0.9581140000 0.2251190000 0.8154980000 \n",
    "C 0.5145220000 0.2195370000 0.9743520000 \n",
    "N 1.3566380000 0.2401320000 -0.0487230000 \n",
    "S 1.2610340000 0.1906900000 2.5510050000 \n",
    "C 2.6315550000 0.2307480000 0.4237010000 \n",
    "C 2.8045060000 0.2050090000 1.7719690000 \n",
    "S 4.1748690000 0.2467810000 -0.3555760000 \n",
    "N 4.0795140000 0.1967980000 2.2444140000 \n",
    "C 4.9211700000 0.2113450000 1.2209370000 \n",
    "C 6.3936000000 0.2142450000 1.3784570000 \n",
    "C 6.9330170000 0.3394660000 2.6716260000 \n",
    "H 6.2694160000 0.4326350000 3.5307490000 \n",
    "C 8.3141890000 0.3484580000 2.8865780000 \n",
    "H 8.7043880000 0.4476040000 3.8962730000 \n",
    "C 9.1855850000 0.2296450000 1.8088250000 \n",
    "H 10.2600100000 0.2357180000 1.9731530000 \n",
    "C 8.6762310000 0.1007620000 0.5197760000 \n",
    "H 9.3551130000 0.0048220000 -0.3242190000 \n",
    "C 7.2928820000 0.0922820000 0.3058620000 \n",
    "H 6.9437820000 -0.0163990000 -0.7176710000\n",
    "                       \n",
    "\"\"\")"
   ]
  },
  {
   "cell_type": "code",
   "execution_count": null,
   "id": "9673c7a5",
   "metadata": {},
   "outputs": [],
   "source": [
    "# The following is a visualizer for your molecule; make sure it looks as expected!\n",
    "view = nglview.show_psi4(monomer)\n",
    "view"
   ]
  },
  {
   "cell_type": "code",
   "execution_count": null,
   "id": "d1307115",
   "metadata": {},
   "outputs": [],
   "source": [
    "# This block runs the Psi4 job; currently we are using the basis set 6-311G**, but this might be a bit overkill.\n",
    "# We can play around with the level of theory later\n",
    "psi4.set_options({\n",
    "    'basis':'6-311G**'\n",
    "})\n",
    "\n",
    "psi4.set_options({\n",
    "    'save_jk': True,\n",
    "    })  \n",
    "\n",
    "\n",
    "#Calculate energy and wavefunction of ground state\n",
    "e, wfn = psi4.energy(\"CAM-b3lyp/6-311G**\", return_wfn=True, molecule=monomer)\n",
    "\n",
    "res = tdscf_excitations(wfn, states=1, triplets = \"NONE\")\n",
    "\n",
    "mu = [r[\"ELECTRIC DIPOLE TRANSITION MOMENT (LEN)\"] for r in res]\n",
    "\n"
   ]
  },
  {
   "cell_type": "code",
   "execution_count": null,
   "id": "e59d654a",
   "metadata": {},
   "outputs": [],
   "source": [
    "# The following cell prints the vector form of the TDM in au and the magnitude in Debye.\n",
    "# The vector form is what we care about!\n",
    "mu_debye = np.sqrt((mu[0][0] ** 2) + (mu[0][1] ** 2) + (mu[0][2] ** 2)) / 0.393456\n",
    "\n",
    "print(f'TDM_vec = {mu} au')\n",
    "print(f'TDM_mag = {mu_debye} Debye')"
   ]
  },
  {
   "cell_type": "code",
   "execution_count": null,
   "id": "4354cfbc",
   "metadata": {},
   "outputs": [],
   "source": []
  }
 ],
 "metadata": {
  "kernelspec": {
   "display_name": "Python 3 (ipykernel)",
   "language": "python",
   "name": "python3"
  },
  "language_info": {
   "codemirror_mode": {
    "name": "ipython",
    "version": 3
   },
   "file_extension": ".py",
   "mimetype": "text/x-python",
   "name": "python",
   "nbconvert_exporter": "python",
   "pygments_lexer": "ipython3",
   "version": "3.11.4"
  }
 },
 "nbformat": 4,
 "nbformat_minor": 5
}
