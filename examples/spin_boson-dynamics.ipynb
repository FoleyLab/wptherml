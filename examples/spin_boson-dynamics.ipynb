{
 "cells": [
  {
   "cell_type": "code",
   "execution_count": 14,
   "id": "d5979e95",
   "metadata": {},
   "outputs": [
    {
     "name": "stdout",
     "output_type": "stream",
     "text": [
      "Energy Eigenvalues in atomic units are\n",
      "[0.25 0.73 0.75 0.77 1.23 1.25 1.27 1.75]\n",
      "Energy eigenvalues in eV are\n",
      "[ 6.8  19.94 20.41 20.88 33.54 34.01 34.49 47.62]\n",
      "[0.   0.48 0.5  0.52 0.98 1.   1.02 1.5 ]\n",
      "0.034614291152643806\n",
      "[-0.         0.7071068 -0.7071068  0.         0.        -0.\n",
      " -0.        -0.       ]\n"
     ]
    }
   ],
   "source": [
    "import wptherml\n",
    "from matplotlib import pyplot as plt\n",
    "import numpy as np\n",
    "\n",
    "# dictionaries for case 1\n",
    "args_1 = {\n",
    "     \"Number_of_Excitons\": 2,\n",
    "     \"number_of_boson_levels\": 2,\n",
    "     \"boson_energy_ev\": 0.5 / 3.6749322175665e-2,\n",
    "     \"exciton_energy_ev\" : 0.5 / 3.6749322175665e-2,\n",
    "     \"exciton_boson_coupling_ev\" : 0.05 / 3.6749322175665e-2,\n",
    "     \"exciton_transition_dipole_magnitude_au\" : 1.0,\n",
    "     \"exciton_ground_state_dipole_magnitude_au\" : 0.0,\n",
    "     \"exciton_excited_state_dipole_magnitude_au\" : 0.0\n",
    "}\n",
    "\n",
    "# from this paper https://journals.aps.org/prb/pdf/10.1103/PhysRevB.92.125432\n",
    "qd_args = {\n",
    "     \"Number_of_Excitons\": 2,\n",
    "     \"number_of_boson_levels\": 2,\n",
    "     \"boson_energy_ev\": 2.05,\n",
    "     \"exciton_energy_ev\" : 2.05,\n",
    "     \"exciton_boson_coupling_ev\" : 0.01,\n",
    "     \"boson_spontaneous_emission_rate_mev\" : 0.0, #0.15e3,\n",
    "     \"exciton_spontaneous_emission_rate_mev\" : 190e-6,\n",
    "     \"exciton_dephasing_rate_mev\" : 2,\n",
    "     \"time_step_au\" : 0.5\n",
    "    \n",
    "}\n",
    "\n",
    "peyton_args = {\n",
    "     \"Number_of_Excitons\": 2,\n",
    "     \"number_of_boson_levels\": 2,\n",
    "     \"boson_energy_ev\": 0.5 / 3.6749322175665e-2, #0375 / 3.6749322175665e-2,\n",
    "     \"exciton_energy_ev\" : 0.5 / 3.6749322175665e-2, #0375 / 3.6749322175665e-2,\n",
    "     \"exciton_boson_coupling_ev\" : 0.012238 / 3.6749322175665e-2,\n",
    "     \"boson_spontaneous_emission_rate_mev\" : 0.0, #0.15e3,\n",
    "     \"exciton_spontaneous_emission_rate_mev\" : 190e-6,\n",
    "     \"exciton_dephasing_rate_mev\" : 2,\n",
    "     \"time_step_au\" : 1.0\n",
    "    \n",
    "}\n",
    "\n",
    "sf = wptherml.SpectrumFactory()\n",
    "\n",
    "# instantiate cases\n",
    "test_1 = sf.spectrum_factory(\"Spin-Boson\", peyton_args)\n",
    "\n",
    "print(test_1.energy_eigenvalues - 0.25)\n",
    "RS = test_1.energy_eigenvalues[3] - test_1.energy_eigenvalues[1]\n",
    "print(RS)\n",
    "np.set_printoptions(precision=7)\n",
    "print(np.real(test_1.energy_eigenvectors[:,2]))"
   ]
  },
  {
   "cell_type": "code",
   "execution_count": 11,
   "id": "d91083c7",
   "metadata": {},
   "outputs": [
    {
     "name": "stdout",
     "output_type": "stream",
     "text": [
      "[[ 0.00e+00 -0.00e+00  0.00e+00 -0.00e+00 -0.00e+00  0.00e+00  0.00e+00\n",
      "   0.00e+00]\n",
      " [-0.00e+00  5.00e-01 -5.00e-01  0.00e+00  7.07e-16 -0.00e+00 -0.00e+00\n",
      "  -0.00e+00]\n",
      " [ 0.00e+00 -5.00e-01  5.00e-01 -0.00e+00 -7.07e-16  0.00e+00  0.00e+00\n",
      "   0.00e+00]\n",
      " [-0.00e+00  0.00e+00 -0.00e+00  0.00e+00  0.00e+00 -0.00e+00 -0.00e+00\n",
      "  -0.00e+00]\n",
      " [-0.00e+00  7.07e-16 -7.07e-16  0.00e+00  9.98e-31 -0.00e+00 -0.00e+00\n",
      "  -0.00e+00]\n",
      " [ 0.00e+00 -0.00e+00  0.00e+00 -0.00e+00 -0.00e+00  0.00e+00  0.00e+00\n",
      "   0.00e+00]\n",
      " [ 0.00e+00 -0.00e+00  0.00e+00 -0.00e+00 -0.00e+00  0.00e+00  0.00e+00\n",
      "   0.00e+00]\n",
      " [ 0.00e+00 -0.00e+00  0.00e+00 -0.00e+00 -0.00e+00  0.00e+00  0.00e+00\n",
      "   0.00e+00]]\n",
      "Ket\n",
      "[-0.00e+00  7.07e-01 -7.07e-01  0.00e+00  9.99e-16 -0.00e+00 -0.00e+00\n",
      " -0.00e+00]\n",
      "[[ 0.  -0.   0.  -0.  -0.   0.   0.   0. ]\n",
      " [-0.   0.5 -0.5  0.   0.  -0.  -0.  -0. ]\n",
      " [ 0.  -0.5  0.5 -0.  -0.   0.   0.   0. ]\n",
      " [-0.   0.  -0.   0.   0.  -0.  -0.  -0. ]\n",
      " [-0.   0.  -0.   0.   0.  -0.  -0.  -0. ]\n",
      " [ 0.  -0.   0.  -0.  -0.   0.   0.   0. ]\n",
      " [ 0.  -0.   0.  -0.  -0.   0.   0.   0. ]\n",
      " [ 0.  -0.   0.  -0.  -0.   0.   0.   0. ]]\n",
      "populations\n",
      "0.0\n",
      "0.4999999999999998\n",
      "0.5000000000000001\n",
      "0.0\n",
      "9.984020831703424e-31\n",
      "0.0\n",
      "0.0\n",
      "0.0\n"
     ]
    }
   ],
   "source": [
    "# peyton's initial ket\n",
    "peyton_ket = np.array([ 0.               +0.j, -0.816496580927726+0.j,  0.408248290463863+0.j,\n",
    "  0.               +0.j, -0.408248290463863+0.j,  0.               +0.j,\n",
    "  0.               +0.j,  0.               +0.j])\n",
    "\n",
    "\n",
    "vecs = np.copy(test_1.energy_eigenvectors)\n",
    "psi_0 = (1/3)* vecs[:, 3] +  (1/3)* vecs[:, 2] + (1/3)* vecs[:, 1]\n",
    "psi_0 = vecs[:, 2]\n",
    "\n",
    "psi_0 /= np.linalg.norm(psi_0)\n",
    "#peyton_rho = np.outer(peyton_ket, peyton_ket)\n",
    "#print(peyton_rho)\n",
    "\n",
    "new_rho = np.outer(psi_0, psi_0)\n",
    "print(new_rho)\n",
    "\n",
    "test_1.exciton_dephasing_rate_au = 0.00000001\n",
    "test_1.exciton_spontaneous_emission_rate_au = 0.0000005\n",
    "test_1.boson_dephasing_rate_au = 0\n",
    "test_1.boson_spontaneous_emission_rate_au = 0\n",
    "\n",
    "test_1.rho = np.copy(new_rho)\n",
    "print(\"Ket\")\n",
    "print(psi_0)\n",
    "\n",
    "\n",
    "np.set_printoptions(precision=2)\n",
    "np.set_printoptions(suppress=True)\n",
    "print(np.real(test_1.rho))\n",
    "\n",
    "print(\"populations\")\n",
    "for i in range(8):\n",
    "    print(test_1.rho[i,i])\n",
    "    "
   ]
  },
  {
   "cell_type": "code",
   "execution_count": 3,
   "id": "693c52d5",
   "metadata": {},
   "outputs": [],
   "source": [
    "t = [0]\n",
    "gs = []\n",
    "lp = []\n",
    "up = []\n",
    "ds = []\n",
    "gs.append(np.real(test_1.rho[0,0]))\n",
    "lp.append(np.real(test_1.rho[1,1]))\n",
    "ds.append(np.real(test_1.rho[2,2]))\n",
    "up.append(np.real(test_1.rho[3,3]))\n",
    "\n",
    "for i in range(16000):\n",
    "    t.append(test_1.time_step_au * i)\n",
    "    test_1.rk4_update_on_rho()\n",
    "    gs.append(np.real(test_1.rho[0,0]))\n",
    "    lp.append(np.real(test_1.rho[1,1]))\n",
    "    ds.append(np.real(test_1.rho[2,2]))\n",
    "    up.append(np.real(test_1.rho[3,3]))\n",
    "    "
   ]
  },
  {
   "cell_type": "code",
   "execution_count": 4,
   "id": "b292462d",
   "metadata": {},
   "outputs": [
    {
     "data": {
      "image/png": "[encoded data removed]",
      "text/plain": [
       "<Figure size 640x480 with 1 Axes>"
      ]
     },
     "metadata": {},
     "output_type": "display_data"
    }
   ],
   "source": [
    "#plt.plot(t, gs, label=\"ground state\")\n",
    "plt.plot(t, lp, label=\"exciton pop\")\n",
    "plt.plot(t, ds, label=\"boson pop\")\n",
    "#plt.plot(t, up, label=\"upper polariton\")\n",
    "plt.legend()\n",
    "plt.show()"
   ]
  },
  {
   "cell_type": "code",
   "execution_count": 5,
   "id": "1bcb4e35",
   "metadata": {},
   "outputs": [
    {
     "name": "stdout",
     "output_type": "stream",
     "text": [
      "(0.007967767315248+0j)\n",
      "(0.4959764170808655+0j)\n",
      "(0.4959764170808643+0j)\n",
      "0j\n",
      "(7.939852302064638e-05+0j)\n",
      "0j\n",
      "0j\n",
      "0j\n"
     ]
    }
   ],
   "source": [
    "for i in range(8):\n",
    "    print(test_1.rho[i,i])\n",
    "    \n",
    "    \n",
    "    \n"
   ]
  },
  {
   "cell_type": "code",
   "execution_count": 2,
   "id": "2103aead",
   "metadata": {},
   "outputs": [
    {
     "name": "stdout",
     "output_type": "stream",
     "text": [
      "[[1. 0. 0. 0. 0. 0. 0. 0.]\n",
      " [0. 0. 0. 0. 0. 0. 0. 0.]\n",
      " [0. 0. 0. 0. 0. 0. 0. 0.]\n",
      " [0. 0. 0. 0. 0. 0. 0. 0.]\n",
      " [0. 0. 0. 0. 0. 0. 0. 0.]\n",
      " [0. 0. 0. 0. 0. 0. 0. 0.]\n",
      " [0. 0. 0. 0. 0. 0. 0. 0.]\n",
      " [0. 0. 0. 0. 0. 0. 0. 0.]]\n"
     ]
    }
   ],
   "source": [
    "test_1.build_rho_from_eigenstate(0)\n",
    "print(test_1.rho)"
   ]
  },
  {
   "cell_type": "code",
   "execution_count": 3,
   "id": "033f482d",
   "metadata": {},
   "outputs": [
    {
     "name": "stdout",
     "output_type": "stream",
     "text": [
      "[[1]\n",
      " [0]\n",
      " [0]]\n",
      "[[0]\n",
      " [1]]\n",
      "[[0 0 0 0 0 0]\n",
      " [0 1 0 0 0 0]\n",
      " [0 0 0 0 0 0]\n",
      " [0 0 0 0 0 0]\n",
      " [0 0 0 0 0 0]\n",
      " [0 0 0 0 0 0]]\n"
     ]
    }
   ],
   "source": [
    "bos_ket_0 = np.array([[1],[0],[0]])\n",
    "spin_ket_1 = np.array([[0],[1]])\n",
    "print(bos_ket_0)\n",
    "print(spin_ket_1)\n",
    "composite_ket = np.kron(bos_ket_0, spin_ket_1)\n",
    "\n",
    "composite_bra = composite_ket.T.conj()\n",
    "\n",
    "composite_rho = composite_ket @ composite_bra\n",
    "print(composite_rho)"
   ]
  },
  {
   "cell_type": "markdown",
   "id": "8e559464",
   "metadata": {},
   "source": [
    "Demonstrate the use on a tri-partite system\n",
    "where a ground state of a N-level boson is Kroneckered into a Bell state\n",
    "\n",
    "$$ |0\\rangle \\otimes |\\psi\\rangle = \\frac{1}{\\sqrt{2}} \\left(|000\\rangle + |011\\rangle \\right) $$\n",
    "\n"
   ]
  },
  {
   "cell_type": "code",
   "execution_count": 4,
   "id": "4df24005",
   "metadata": {},
   "outputs": [
    {
     "name": "stdout",
     "output_type": "stream",
     "text": [
      "rho_spin1_spin2\n",
      "[[0.5 0.  0.  0.5]\n",
      " [0.  0.  0.  0. ]\n",
      " [0.  0.  0.  0. ]\n",
      " [0.5 0.  0.  0.5]]\n",
      "rho_cav\n",
      "[[1 0]\n",
      " [0 0]]\n",
      "rho_cav_spin1_spin2\n",
      "[[0.5 0.  0.  0.5 0.  0.  0.  0. ]\n",
      " [0.  0.  0.  0.  0.  0.  0.  0. ]\n",
      " [0.  0.  0.  0.  0.  0.  0.  0. ]\n",
      " [0.5 0.  0.  0.5 0.  0.  0.  0. ]\n",
      " [0.  0.  0.  0.  0.  0.  0.  0. ]\n",
      " [0.  0.  0.  0.  0.  0.  0.  0. ]\n",
      " [0.  0.  0.  0.  0.  0.  0.  0. ]\n",
      " [0.  0.  0.  0.  0.  0.  0.  0. ]]\n"
     ]
    }
   ],
   "source": [
    "\n",
    "# Example usage - build rho for state 1/sqrt(2) (|00> + |11>)\n",
    "# on the hilbert space of spin 1 and spin 2\n",
    "ket_0s1 = np.array([[1], [0]])\n",
    "ket_0s2 = np.array([[1], [0]])\n",
    "ket_1s1 = np.array([[0], [1]])\n",
    "ket_1s2 = np.array([[0], [1]])\n",
    "\n",
    "# bell state\n",
    "bell_ket = 1/np.sqrt(2) * (np.kron(ket_0s1, ket_0s2) + np.kron(ket_1s1, ket_1s2))\n",
    "bell_bra = np.conjugate(np.transpose(bell_ket))\n",
    "\n",
    "# build rho for Bell state\n",
    "bell_rho = bell_ket @ bell_bra\n",
    "\n",
    "print(\"rho_spin1_spin2\")\n",
    "print(bell_rho)\n",
    "\n",
    "# ground state of 2-level harmonic oscillator\n",
    "ket_0_cav = np.array([[1],[0]])\n",
    "bra_0_cav = np.conjugate(np.transpose(ket_0_cav))\n",
    "\n",
    "# build density matrix of state of cav\n",
    "rho_cav = ket_0_cav @ bra_0_cav\n",
    "\n",
    "print(\"rho_cav\")\n",
    "print(rho_cav)\n",
    "\n",
    "# take Kronecker product of ket_0_cav with bell state\n",
    "ket_psi = np.kron(ket_0_cav, bell_ket)\n",
    "\n",
    "# get bra of this composite state\n",
    "bra_psi = np.conjugate(np.transpose(ket_psi))\n",
    "\n",
    "# build rho for composite state\n",
    "rho_psi = ket_psi @ bra_psi\n",
    "print(\"rho_cav_spin1_spin2\")\n",
    "print(rho_psi)"
   ]
  },
  {
   "cell_type": "code",
   "execution_count": 7,
   "id": "0cefef8a",
   "metadata": {},
   "outputs": [
    {
     "name": "stdout",
     "output_type": "stream",
     "text": [
      "Rho attribute\n",
      "[[0.5 0.  0.  0.5 0.  0.  0.  0. ]\n",
      " [0.  0.  0.  0.  0.  0.  0.  0. ]\n",
      " [0.  0.  0.  0.  0.  0.  0.  0. ]\n",
      " [0.5 0.  0.  0.5 0.  0.  0.  0. ]\n",
      " [0.  0.  0.  0.  0.  0.  0.  0. ]\n",
      " [0.  0.  0.  0.  0.  0.  0.  0. ]\n",
      " [0.  0.  0.  0.  0.  0.  0.  0. ]\n",
      " [0.  0.  0.  0.  0.  0.  0.  0. ]]\n",
      "2\n",
      "[[1. 0.]\n",
      " [0. 1.]]\n",
      "[[1 0]\n",
      " [0 1]]\n",
      "Rows and Cols of A, B, C\n",
      "2 2\n",
      "2 2\n",
      "2 2\n",
      "RDM Spin1 Spin1\n",
      "[[0.5 0.  0.  0.5]\n",
      " [0.  0.  0.  0. ]\n",
      " [0.  0.  0.  0. ]\n",
      " [0.5 0.  0.  0.5]]\n",
      "RDM Cavity Spin1\n",
      "[[0.5 0.  0.  0. ]\n",
      " [0.  0.5 0.  0. ]\n",
      " [0.  0.  0.  0. ]\n",
      " [0.  0.  0.  0. ]]\n",
      "RDM Cavity Spin2\n",
      "[[0.5 0.  0.  0. ]\n",
      " [0.  0.5 0.  0. ]\n",
      " [0.  0.  0.  0. ]\n",
      " [0.  0.  0.  0. ]]\n"
     ]
    }
   ],
   "source": [
    "# test out the method to build a density matrix from a given ket\n",
    "test_1.build_rho_from_ket(ket_psi)\n",
    "print(\"Rho attribute\")\n",
    "print(test_1.rho)\n",
    "\n",
    "print(test_1.number_of_excitons)\n",
    "print(test_1.boson_basis)\n",
    "print(test_1.single_exciton_basis)\n",
    "\n",
    "# take partial traces\n",
    "test_1.compute_partial_traces(test_1.rho)\n",
    "\n",
    "print(\"RDM Spin1 Spin1\")\n",
    "print(test_1.rdm_spin1_spin2)\n",
    "\n",
    "print(\"RDM Cavity Spin1\")\n",
    "print(test_1.rdm_cavity_spin1)\n",
    "\n",
    "print(\"RDM Cavity Spin2\")\n",
    "print(test_1.rdm_cavity_spin2)"
   ]
  },
  {
   "cell_type": "code",
   "execution_count": null,
   "id": "4cc4ebfa",
   "metadata": {},
   "outputs": [],
   "source": [
    "#test_1.build_rho_from_eigenstate(1)\n",
    "test_1.rho = np.copy(composite_rho)\n",
    "t = [0]\n",
    "gs = []\n",
    "lp = []\n",
    "up = []\n",
    "ds = []\n",
    "gs.append(np.real(test_1.rho[0,0]))\n",
    "lp.append(np.real(test_1.rho[1,1]))\n",
    "ds.append(np.real(test_1.rho[2,2]))\n",
    "up.append(np.real(test_1.rho[3,3]))\n",
    "\n",
    "for i in range(16000 * 2):\n",
    "    t.append(test_1.time_step_au * i)\n",
    "    test_1.rk4_update_on_rho()\n",
    "    gs.append(np.real(test_1.rho[0,0]))\n",
    "    lp.append(np.real(test_1.rho[1,1]))\n",
    "    ds.append(np.real(test_1.rho[2,2]))\n",
    "    up.append(np.real(test_1.rho[3,3]))\n",
    "    \n"
   ]
  },
  {
   "cell_type": "code",
   "execution_count": null,
   "id": "bdc28562",
   "metadata": {},
   "outputs": [],
   "source": [
    "plt.plot(t, gs, label=\"ground state\")\n",
    "plt.plot(t, lp, label=\"exciton pop\")\n",
    "plt.plot(t, ds, label=\"boson pop\")\n",
    "#plt.plot(t, up, label=\"upper polariton\")\n",
    "plt.legend()\n",
    "plt.show()"
   ]
  },
  {
   "cell_type": "code",
   "execution_count": null,
   "id": "52d6ce1e",
   "metadata": {},
   "outputs": [],
   "source": []
  }
 ],
 "metadata": {
  "kernelspec": {
   "display_name": "Python 3 (ipykernel)",
   "language": "python",
   "name": "python3"
  },
  "language_info": {
   "codemirror_mode": {
    "name": "ipython",
    "version": 3
   },
   "file_extension": ".py",
   "mimetype": "text/x-python",
   "name": "python",
   "nbconvert_exporter": "python",
   "pygments_lexer": "ipython3",
   "version": "3.8.13"
  }
 },
 "nbformat": 4,
 "nbformat_minor": 5
}
