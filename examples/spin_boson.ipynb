{
 "cells": [
  {
   "cell_type": "code",
   "execution_count": 1,
   "id": "d5979e95",
   "metadata": {},
   "outputs": [
    {
     "name": "stdout",
     "output_type": "stream",
     "text": [
      "Energy Eigenvalues in atomic units are\n",
      "[0.03766806 0.11248445 0.11300417 0.11352388 0.18744011 0.18834028\n",
      " 0.18834028 0.18924045 0.26251427 0.26367639 0.26367639 0.2648385\n",
      " 0.33763746 0.3390125  0.3390125  0.34038753 0.41330918 0.41434861\n",
      " 0.41538804 0.48968472]\n",
      "Energy eigenvalues in eV are\n",
      "[ 1.025       3.06085786  3.075       3.08914214  5.1005051   5.125\n",
      "  5.125       5.1494949   7.14337722  7.175       7.175       7.20662278\n",
      "  9.18758343  9.225       9.225       9.26241657 11.24671573 11.275\n",
      " 11.30328427 13.325     ]\n"
     ]
    }
   ],
   "source": [
    "import wptherml\n",
    "from matplotlib import pyplot as plt\n",
    "import numpy as np\n",
    "\n",
    "# dictionaries for case 1\n",
    "args_1 = {\n",
    "     \"Number_of_Excitons\": 2,\n",
    "     \"number_of_boson_levels\": 2,\n",
    "     \"boson_energy_ev\": 0.5 / 3.6749322175665e-2,\n",
    "     \"exciton_energy_ev\" : 0.5 / 3.6749322175665e-2,\n",
    "     \"exciton_boson_coupling_ev\" : 0.05 / 3.6749322175665e-2,\n",
    "     \"exciton_transition_dipole_magnitude_au\" : 1.0,\n",
    "     \"exciton_ground_state_dipole_magnitude_au\" : 0.0,\n",
    "     \"exciton_excited_state_dipole_magnitude_au\" : 0.0\n",
    "}\n",
    "\n",
    "# from this paper https://journals.aps.org/prb/pdf/10.1103/PhysRevB.92.125432\n",
    "qd_args = {\n",
    "     \"Number_of_Excitons\": 2,\n",
    "     \"number_of_boson_levels\": 5,\n",
    "     \"boson_energy_ev\": 2.05,\n",
    "     \"exciton_energy_ev\" : 2.05,\n",
    "     \"exciton_boson_coupling_ev\" : 0.01,\n",
    "     \"boson_spontaneous_emission_rate_mev\" : 0.15e-3,\n",
    "     \"exciton_spontaneous_emission_rate_mev\" : 190e-6,\n",
    "     \"exciton_dephasing_rate_mev\" : 2,\n",
    "    \n",
    "}\n",
    "\n",
    "sf = wptherml.SpectrumFactory()\n",
    "\n",
    "# instantiate cases\n",
    "test_1 = sf.spectrum_factory(\"Spin-Boson\", qd_args)\n"
   ]
  },
  {
   "cell_type": "code",
   "execution_count": null,
   "id": "e8c6f2a8",
   "metadata": {},
   "outputs": [],
   "source": []
  },
  {
   "cell_type": "code",
   "execution_count": 2,
   "id": "f450ec82",
   "metadata": {},
   "outputs": [],
   "source": [
    "expected_eigenvalues_in_au = np.array([0.25,       0.67928932, 0.75,       0.82071068, 1.17928932, 1.25,\n",
    " 1.32071068, 1.75])\n",
    "\n",
    "#assert np.allclose(expected_eigenvalues_in_au, test_1.energy_eigenvalues)"
   ]
  },
  {
   "cell_type": "code",
   "execution_count": 3,
   "id": "572f959d",
   "metadata": {},
   "outputs": [
    {
     "name": "stdout",
     "output_type": "stream",
     "text": [
      "[[600. 400. 400. 200.]\n",
      " [400. 600. 200. 400.]\n",
      " [400. 200. 600. 400.]\n",
      " [200. 400. 400. 600.]]\n"
     ]
    }
   ],
   "source": [
    "test_1.build_dipole_squared_operator()\n",
    "\n",
    "print(test_1.mu_squared_operator)"
   ]
  },
  {
   "cell_type": "code",
   "execution_count": 4,
   "id": "4e612074",
   "metadata": {},
   "outputs": [
    {
     "name": "stdout",
     "output_type": "stream",
     "text": [
      "[[0.         0.         0.         0.         0.         0.\n",
      "  0.         0.         0.         0.         0.         0.\n",
      "  0.         0.         0.         0.         0.         0.\n",
      "  0.         0.        ]\n",
      " [0.         0.         0.         0.         0.00036749 0.\n",
      "  0.         0.         0.         0.         0.         0.\n",
      "  0.         0.         0.         0.         0.         0.\n",
      "  0.         0.        ]\n",
      " [0.         0.         0.         0.         0.00036749 0.\n",
      "  0.         0.         0.         0.         0.         0.\n",
      "  0.         0.         0.         0.         0.         0.\n",
      "  0.         0.        ]\n",
      " [0.         0.         0.         0.         0.         0.00036749\n",
      "  0.00036749 0.         0.         0.         0.         0.\n",
      "  0.         0.         0.         0.         0.         0.\n",
      "  0.         0.        ]\n",
      " [0.         0.00036749 0.00036749 0.         0.         0.\n",
      "  0.         0.         0.         0.         0.         0.\n",
      "  0.         0.         0.         0.         0.         0.\n",
      "  0.         0.        ]\n",
      " [0.         0.         0.         0.00036749 0.         0.\n",
      "  0.         0.         0.00051971 0.         0.         0.\n",
      "  0.         0.         0.         0.         0.         0.\n",
      "  0.         0.        ]\n",
      " [0.         0.         0.         0.00036749 0.         0.\n",
      "  0.         0.         0.00051971 0.         0.         0.\n",
      "  0.         0.         0.         0.         0.         0.\n",
      "  0.         0.        ]\n",
      " [0.         0.         0.         0.         0.         0.\n",
      "  0.         0.         0.         0.00051971 0.00051971 0.\n",
      "  0.         0.         0.         0.         0.         0.\n",
      "  0.         0.        ]\n",
      " [0.         0.         0.         0.         0.         0.00051971\n",
      "  0.00051971 0.         0.         0.         0.         0.\n",
      "  0.         0.         0.         0.         0.         0.\n",
      "  0.         0.        ]\n",
      " [0.         0.         0.         0.         0.         0.\n",
      "  0.         0.00051971 0.         0.         0.         0.\n",
      "  0.00063652 0.         0.         0.         0.         0.\n",
      "  0.         0.        ]\n",
      " [0.         0.         0.         0.         0.         0.\n",
      "  0.         0.00051971 0.         0.         0.         0.\n",
      "  0.00063652 0.         0.         0.         0.         0.\n",
      "  0.         0.        ]\n",
      " [0.         0.         0.         0.         0.         0.\n",
      "  0.         0.         0.         0.         0.         0.\n",
      "  0.         0.00063652 0.00063652 0.         0.         0.\n",
      "  0.         0.        ]\n",
      " [0.         0.         0.         0.         0.         0.\n",
      "  0.         0.         0.         0.00063652 0.00063652 0.\n",
      "  0.         0.         0.         0.         0.         0.\n",
      "  0.         0.        ]\n",
      " [0.         0.         0.         0.         0.         0.\n",
      "  0.         0.         0.         0.         0.         0.00063652\n",
      "  0.         0.         0.         0.         0.00073499 0.\n",
      "  0.         0.        ]\n",
      " [0.         0.         0.         0.         0.         0.\n",
      "  0.         0.         0.         0.         0.         0.00063652\n",
      "  0.         0.         0.         0.         0.00073499 0.\n",
      "  0.         0.        ]\n",
      " [0.         0.         0.         0.         0.         0.\n",
      "  0.         0.         0.         0.         0.         0.\n",
      "  0.         0.         0.         0.         0.         0.00073499\n",
      "  0.00073499 0.        ]\n",
      " [0.         0.         0.         0.         0.         0.\n",
      "  0.         0.         0.         0.         0.         0.\n",
      "  0.         0.00073499 0.00073499 0.         0.         0.\n",
      "  0.         0.        ]\n",
      " [0.         0.         0.         0.         0.         0.\n",
      "  0.         0.         0.         0.         0.         0.\n",
      "  0.         0.         0.         0.00073499 0.         0.\n",
      "  0.         0.        ]\n",
      " [0.         0.         0.         0.         0.         0.\n",
      "  0.         0.         0.         0.         0.         0.\n",
      "  0.         0.         0.         0.00073499 0.         0.\n",
      "  0.         0.        ]\n",
      " [0.         0.         0.         0.         0.         0.\n",
      "  0.         0.         0.         0.         0.         0.\n",
      "  0.         0.         0.         0.         0.         0.\n",
      "  0.         0.        ]]\n"
     ]
    }
   ],
   "source": [
    "print(test_1.exciton_boson_coupling_operator)\n"
   ]
  },
  {
   "cell_type": "code",
   "execution_count": 5,
   "id": "fbef07ba",
   "metadata": {},
   "outputs": [
    {
     "ename": "ValueError",
     "evalue": "operands could not be broadcast together with shapes (8,8) (20,20) ",
     "output_type": "error",
     "traceback": [
      "\u001b[0;31m---------------------------------------------------------------------------\u001b[0m",
      "\u001b[0;31mValueError\u001b[0m                                Traceback (most recent call last)",
      "Cell \u001b[0;32mIn[5], line 10\u001b[0m\n\u001b[1;32m      1\u001b[0m expected_coupling_matrix \u001b[38;5;241m=\u001b[39m np\u001b[38;5;241m.\u001b[39marray([[\u001b[38;5;241m0.\u001b[39m,   \u001b[38;5;241m0.\u001b[39m,   \u001b[38;5;241m0.\u001b[39m,   \u001b[38;5;241m0.\u001b[39m,   \u001b[38;5;241m0.\u001b[39m,   \u001b[38;5;241m0.\u001b[39m,   \u001b[38;5;241m0.\u001b[39m,   \u001b[38;5;241m0.\u001b[39m,  ],\n\u001b[1;32m      2\u001b[0m  [\u001b[38;5;241m0.\u001b[39m,   \u001b[38;5;241m0.\u001b[39m,   \u001b[38;5;241m0.\u001b[39m,   \u001b[38;5;241m0.\u001b[39m,   \u001b[38;5;241m0.05\u001b[39m, \u001b[38;5;241m0.\u001b[39m,   \u001b[38;5;241m0.\u001b[39m,   \u001b[38;5;241m0.\u001b[39m,  ],\n\u001b[1;32m      3\u001b[0m  [\u001b[38;5;241m0.\u001b[39m,   \u001b[38;5;241m0.\u001b[39m,   \u001b[38;5;241m0.\u001b[39m,   \u001b[38;5;241m0.\u001b[39m,   \u001b[38;5;241m0.05\u001b[39m, \u001b[38;5;241m0.\u001b[39m,   \u001b[38;5;241m0.\u001b[39m,   \u001b[38;5;241m0.\u001b[39m,  ],\n\u001b[0;32m   (...)\u001b[0m\n\u001b[1;32m      7\u001b[0m  [\u001b[38;5;241m0.\u001b[39m,   \u001b[38;5;241m0.\u001b[39m,   \u001b[38;5;241m0.\u001b[39m,   \u001b[38;5;241m0.05\u001b[39m, \u001b[38;5;241m0.\u001b[39m,   \u001b[38;5;241m0.\u001b[39m,   \u001b[38;5;241m0.\u001b[39m,   \u001b[38;5;241m0.\u001b[39m,  ],\n\u001b[1;32m      8\u001b[0m  [\u001b[38;5;241m0.\u001b[39m,   \u001b[38;5;241m0.\u001b[39m,   \u001b[38;5;241m0.\u001b[39m,   \u001b[38;5;241m0.\u001b[39m,   \u001b[38;5;241m0.\u001b[39m,   \u001b[38;5;241m0.\u001b[39m,   \u001b[38;5;241m0.\u001b[39m,   \u001b[38;5;241m0.\u001b[39m,  ]])\n\u001b[0;32m---> 10\u001b[0m \u001b[38;5;28;01massert\u001b[39;00m np\u001b[38;5;241m.\u001b[39mallclose(expected_coupling_matrix, test_1\u001b[38;5;241m.\u001b[39mexciton_boson_coupling_operator)\n",
      "File \u001b[0;32m/opt/anaconda3/envs/wptherml/lib/python3.11/site-packages/numpy/core/numeric.py:2241\u001b[0m, in \u001b[0;36mallclose\u001b[0;34m(a, b, rtol, atol, equal_nan)\u001b[0m\n\u001b[1;32m   2170\u001b[0m \u001b[38;5;129m@array_function_dispatch\u001b[39m(_allclose_dispatcher)\n\u001b[1;32m   2171\u001b[0m \u001b[38;5;28;01mdef\u001b[39;00m \u001b[38;5;21mallclose\u001b[39m(a, b, rtol\u001b[38;5;241m=\u001b[39m\u001b[38;5;241m1.e-5\u001b[39m, atol\u001b[38;5;241m=\u001b[39m\u001b[38;5;241m1.e-8\u001b[39m, equal_nan\u001b[38;5;241m=\u001b[39m\u001b[38;5;28;01mFalse\u001b[39;00m):\n\u001b[1;32m   2172\u001b[0m \u001b[38;5;250m    \u001b[39m\u001b[38;5;124;03m\"\"\"\u001b[39;00m\n\u001b[1;32m   2173\u001b[0m \u001b[38;5;124;03m    Returns True if two arrays are element-wise equal within a tolerance.\u001b[39;00m\n\u001b[1;32m   2174\u001b[0m \n\u001b[0;32m   (...)\u001b[0m\n\u001b[1;32m   2239\u001b[0m \n\u001b[1;32m   2240\u001b[0m \u001b[38;5;124;03m    \"\"\"\u001b[39;00m\n\u001b[0;32m-> 2241\u001b[0m     res \u001b[38;5;241m=\u001b[39m \u001b[38;5;28mall\u001b[39m(isclose(a, b, rtol\u001b[38;5;241m=\u001b[39mrtol, atol\u001b[38;5;241m=\u001b[39matol, equal_nan\u001b[38;5;241m=\u001b[39mequal_nan))\n\u001b[1;32m   2242\u001b[0m     \u001b[38;5;28;01mreturn\u001b[39;00m \u001b[38;5;28mbool\u001b[39m(res)\n",
      "File \u001b[0;32m/opt/anaconda3/envs/wptherml/lib/python3.11/site-packages/numpy/core/numeric.py:2351\u001b[0m, in \u001b[0;36misclose\u001b[0;34m(a, b, rtol, atol, equal_nan)\u001b[0m\n\u001b[1;32m   2349\u001b[0m yfin \u001b[38;5;241m=\u001b[39m isfinite(y)\n\u001b[1;32m   2350\u001b[0m \u001b[38;5;28;01mif\u001b[39;00m \u001b[38;5;28mall\u001b[39m(xfin) \u001b[38;5;129;01mand\u001b[39;00m \u001b[38;5;28mall\u001b[39m(yfin):\n\u001b[0;32m-> 2351\u001b[0m     \u001b[38;5;28;01mreturn\u001b[39;00m within_tol(x, y, atol, rtol)\n\u001b[1;32m   2352\u001b[0m \u001b[38;5;28;01melse\u001b[39;00m:\n\u001b[1;32m   2353\u001b[0m     finite \u001b[38;5;241m=\u001b[39m xfin \u001b[38;5;241m&\u001b[39m yfin\n",
      "File \u001b[0;32m/opt/anaconda3/envs/wptherml/lib/python3.11/site-packages/numpy/core/numeric.py:2332\u001b[0m, in \u001b[0;36misclose.<locals>.within_tol\u001b[0;34m(x, y, atol, rtol)\u001b[0m\n\u001b[1;32m   2330\u001b[0m \u001b[38;5;28;01mdef\u001b[39;00m \u001b[38;5;21mwithin_tol\u001b[39m(x, y, atol, rtol):\n\u001b[1;32m   2331\u001b[0m     \u001b[38;5;28;01mwith\u001b[39;00m errstate(invalid\u001b[38;5;241m=\u001b[39m\u001b[38;5;124m'\u001b[39m\u001b[38;5;124mignore\u001b[39m\u001b[38;5;124m'\u001b[39m), _no_nep50_warning():\n\u001b[0;32m-> 2332\u001b[0m         \u001b[38;5;28;01mreturn\u001b[39;00m less_equal(\u001b[38;5;28mabs\u001b[39m(x\u001b[38;5;241m-\u001b[39my), atol \u001b[38;5;241m+\u001b[39m rtol \u001b[38;5;241m*\u001b[39m \u001b[38;5;28mabs\u001b[39m(y))\n",
      "\u001b[0;31mValueError\u001b[0m: operands could not be broadcast together with shapes (8,8) (20,20) "
     ]
    }
   ],
   "source": [
    "expected_coupling_matrix = np.array([[0.,   0.,   0.,   0.,   0.,   0.,   0.,   0.,  ],\n",
    " [0.,   0.,   0.,   0.,   0.05, 0.,   0.,   0.,  ],\n",
    " [0.,   0.,   0.,   0.,   0.05, 0.,   0.,   0.,  ],\n",
    " [0.,   0.,   0.,   0.,   0.,   0.05, 0.05, 0.,  ],\n",
    " [0.,   0.05, 0.05, 0.,   0.,   0.,   0.,   0.,  ],\n",
    " [0.,   0.,   0.,   0.05, 0.,   0.,   0.,   0.,  ],\n",
    " [0.,   0.,   0.,   0.05, 0.,   0.,   0.,   0.,  ],\n",
    " [0.,   0.,   0.,   0.,   0.,   0.,   0.,   0.,  ]])\n",
    "\n",
    "assert np.allclose(expected_coupling_matrix, test_1.exciton_boson_coupling_operator)"
   ]
  },
  {
   "cell_type": "code",
   "execution_count": null,
   "id": "51ac7252",
   "metadata": {},
   "outputs": [],
   "source": [
    "g_array = np.linspace(0, 0.05, 51)\n",
    "\n",
    "gs_list = []\n",
    "lp_list = []\n",
    "ds_list = []\n",
    "up_list = []\n",
    "\n",
    "for g in g_array:\n",
    "    test_1.exciton_boson_coupling_ev = g\n",
    "    test_1.exciton_boson_coupling_au = test_1.exciton_boson_coupling_ev * test_1.ev_to_au\n",
    "    test_1.compute_spectrum()\n",
    "    gs_list.append(test_1.energy_eigenvalues[0] / test_1.ev_to_au)\n",
    "    lp_list.append(test_1.energy_eigenvalues[1] / test_1.ev_to_au)\n",
    "    ds_list.append(test_1.energy_eigenvalues[2] / test_1.ev_to_au)\n",
    "    up_list.append(test_1.energy_eigenvalues[3] / test_1.ev_to_au)\n",
    "    \n"
   ]
  },
  {
   "cell_type": "code",
   "execution_count": null,
   "id": "8c3c89ca",
   "metadata": {},
   "outputs": [],
   "source": [
    "plt.plot(g_array, gs_list)\n",
    "plt.plot(g_array, lp_list)\n",
    "plt.plot(g_array, ds_list)\n",
    "plt.plot(g_array, up_list)\n",
    "plt.show()\n"
   ]
  },
  {
   "cell_type": "code",
   "execution_count": null,
   "id": "4cc4ebfa",
   "metadata": {},
   "outputs": [],
   "source": []
  }
 ],
 "metadata": {
  "kernelspec": {
   "display_name": "Python 3 (ipykernel)",
   "language": "python",
   "name": "python3"
  },
  "language_info": {
   "codemirror_mode": {
    "name": "ipython",
    "version": 3
   },
   "file_extension": ".py",
   "mimetype": "text/x-python",
   "name": "python",
   "nbconvert_exporter": "python",
   "pygments_lexer": "ipython3",
   "version": "3.11.4"
  }
 },
 "nbformat": 4,
 "nbformat_minor": 5
}
