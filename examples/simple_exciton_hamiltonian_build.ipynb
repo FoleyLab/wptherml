{
 "cells": [
  {
   "cell_type": "code",
   "execution_count": 1,
   "id": "1adc543d-8e8d-43ef-9a7b-7545df66e593",
   "metadata": {},
   "outputs": [],
   "source": [
    "import wptherml\n",
    "from matplotlib import pyplot as plt\n",
    "import numpy as np\n",
    "from numpy import linalg\n",
    "\n",
    "args = {  \n",
    "'exciton_energy': 1.5,\n",
    "'transition_dipole_moment' : np.array([0, 0, 0.5]),\n",
    "'aggregate_shape' : (2, 1, 1),\n",
    "}  \n",
    "\n",
    "sf = wptherml.SpectrumFactory()  \n",
    "test = sf.spectrum_factory('Frenkel', args)"
   ]
  },
  {
   "cell_type": "code",
   "execution_count": 32,
   "id": "62d5552a-c1d3-410d-8708-3af1f1c0f9ce",
   "metadata": {},
   "outputs": [
    {
     "name": "stdout",
     "output_type": "stream",
     "text": [
      "[[1.50000000e+00 5.60217206e-06]\n",
      " [5.60217206e-06 1.50000000e+00]]\n",
      "[[-0.70710678  0.70710678]\n",
      " [ 0.70710678  0.70710678]]\n",
      "[-0.70710678  0.70710678]\n",
      "[0.70710678 0.70710678]\n"
     ]
    }
   ],
   "source": [
    "print(test.exciton_hamiltonian)\n",
    "test_diag = np.linalg.eigh(test.exciton_hamiltonian)\n",
    "print(test_diag.eigenvectors)\n",
    "V_1 = test_diag.eigenvectors[:,0]\n",
    "V_2 = test_diag.eigenvectors[:,1]\n",
    "print(V_1)\n",
    "print(V_2)"
   ]
  },
  {
   "cell_type": "code",
   "execution_count": null,
   "id": "2793f44d",
   "metadata": {},
   "outputs": [],
   "source": []
  }
 ],
 "metadata": {
  "kernelspec": {
   "display_name": "Python 3 (ipykernel)",
   "language": "python",
   "name": "python3"
  },
  "language_info": {
   "codemirror_mode": {
    "name": "ipython",
    "version": 3
   },
   "file_extension": ".py",
   "mimetype": "text/x-python",
   "name": "python",
   "nbconvert_exporter": "python",
   "pygments_lexer": "ipython3",
   "version": "3.11.4"
  }
 },
 "nbformat": 4,
 "nbformat_minor": 5
}
