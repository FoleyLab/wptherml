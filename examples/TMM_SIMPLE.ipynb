{
 "cells": [
  {
   "cell_type": "markdown",
   "id": "4c75256a",
   "metadata": {},
   "source": [
    "The following cell will import WPTherml and set up a base structure that we will evaluate for selective thermal emission for solar thermophotovoltaic (STPV) applications.  For background information on STPV, a good (and open) review article can be found [here](https://cyberleninka.org/article/n/867899)."
   ]
  },
  {
   "cell_type": "code",
   "execution_count": 5,
   "id": "a7abd296",
   "metadata": {},
   "outputs": [],
   "source": [
    "import wptherml\n",
    "from matplotlib import pyplot as plt\n",
    "import numpy as np\n",
    "\n",
    "\n",
    "# Example input dictionary\n",
    "test_args = {\n",
    "    \"wavelength_list\": [400e-9, 800e-9, 30000],  # 100 wavelengths from 400 to 800 nm\n",
    "    \"material_list\": [\"Air\", \"SiO2\", \"TiO2\",\"Air\"],\n",
    "    \"thickness_list\": [0, 200e-9, 10e-9,0],\n",
    "}\n",
    "\n",
    "\n"
   ]
  },
  {
   "cell_type": "code",
   "execution_count": 6,
   "id": "f32a1221",
   "metadata": {},
   "outputs": [
    {
     "name": "stdout",
     "output_type": "stream",
     "text": [
      "TEW is 0.3333333333333333\n",
      "REW is 0.3333333333333333\n",
      "RSW is 0.3333333333333333\n",
      "1.0\n",
      " Your spectra have been computed! 😎 \n",
      "(4,)\n"
     ]
    },
    {
     "data": {
      "image/png": "[encoded data removed]",
      "text/plain": [
       "<Figure size 640x480 with 1 Axes>"
      ]
     },
     "metadata": {},
     "output_type": "display_data"
    }
   ],
   "source": [
    "sf = wptherml.SpectrumFactory()\n",
    "test = sf.spectrum_factory('Tmm', test_args)\n",
    "\n",
    "plt.plot(test.wavelength_array * 1e9, test.reflectivity_array, 'blue', label=r\"R\")\n",
    "\n",
    "print(np.shape(test.thickness_array))\n",
    "\n",
    "plt.xlabel(r\"Wavelength (m)\")\n",
    "plt.legend()\n",
    "plt.show()"
   ]
  },
  {
   "cell_type": "code",
   "execution_count": null,
   "id": "14671426-6c03-4b0b-9e70-ea3754bc268d",
   "metadata": {},
   "outputs": [],
   "source": [
    "GOING TO PRINT TM FOR WAVELENGTH 400.0 nm\n",
    "[[0.3972409 +1.03556999j 0.25953365+0.40324109j]\n",
    " [0.25954932-0.40288906j 0.39719967-1.03521661j]]\n",
    "GOING TO PRINT TM FOR WAVELENGTH 600.0 nm\n",
    "[[-0.9893825 +0.25898347j -0.01140536+0.21405628j]\n",
    " [-0.01140536-0.21405628j -0.9893825 -0.25898347j]]\n",
    "GOING TO PRINT TM FOR WAVELENGTH 800.0 nm\n",
    "[[-0.7968421 -0.63149257j -0.06852945-0.17042274j]\n",
    " [-0.06852945+0.17042274j -0.7968421 +0.63149257j]]"
   ]
  },
  {
   "cell_type": "code",
   "execution_count": 7,
   "id": "10fb2c5b",
   "metadata": {},
   "outputs": [],
   "source": [
    "n_1 = 1.5 + 0j\n",
    "n_2 = 2.2 + 0.01j\n",
    "\n",
    "for i in range(1,3):\n",
    "    if i%2==0: # even\n",
    "        test._refractive_index_array[:,i] = n_2\n",
    "    elif i%2==1: # odd\n",
    "        test._refractive_index_array[:,i] = n_1\n",
    "        \n",
    "import time\n",
    "start = time.time()\n",
    "test.compute_spectrum()\n",
    "end = time.time()\n"
   ]
  },
  {
   "cell_type": "code",
   "execution_count": 8,
   "id": "373a6a62-1bfe-49a7-a71c-53297ca7068b",
   "metadata": {},
   "outputs": [
    {
     "name": "stdout",
     "output_type": "stream",
     "text": [
      "0.4348311424255371\n"
     ]
    }
   ],
   "source": [
    "print(end-start)"
   ]
  },
  {
   "cell_type": "markdown",
   "id": "e8206c00",
   "metadata": {},
   "source": [
    "Now we will modify the thickness of the 3 layers between the top-most alloy layer and the bottom-most tungsten layer.  These 3 layers consist of SiO$_2$, TiO$_2$, and SiO$_2$ respectively. We will see that there is an incredible amount of flexibility in terms of the thermal emission spectra and the $\\eta$ and $\\rho$ figures of merit that can be realized by tuning the thickness of these 3 layers.  We could systematically vary the layer thicknesses in some range of reasonable thicknesses, or we could randomly select thicknesses in such a range.  In the cell below, we will randomly assign the thicknesses of each of the three layers 5000 times for a total of 5000 different instances of the emitter structure.  We will choose a random integer for each layer between 1 and 500 and scale it by 1e-9 so that we are effectly randomly choosing thicknesses between 1e-9 and 500e-9 m for each layer.  For each of these 5000 structures, we will compute and store the STPV spectral efficiency and power density for further analysis. "
   ]
  },
  {
   "cell_type": "code",
   "execution_count": null,
   "id": "2cc0b5d5",
   "metadata": {},
   "outputs": [],
   "source": [
    "\n",
    "n_layers = 3\n",
    "N = 5000\n",
    "thicknesses = np.random.randint(500, size=(N, n_layers))\n",
    "solutions = np.zeros((N, n_layers+2))\n",
    "\n",
    "solutions[:,:n_layers] = thicknesses\n",
    "\n",
    "for i in range(0, N):\n",
    "    test.thickness_array[2:5] = solutions[i,:3] * 1e-9\n",
    "    test.compute_stpv()\n",
    "    solutions[i,3] = test.stpv_spectral_efficiency\n",
    "    solutions[i,4] = test.stpv_power_density\n",
    "    "
   ]
  },
  {
   "cell_type": "markdown",
   "id": "bf3428b6",
   "metadata": {},
   "source": [
    "Now we will use the `is_dominated()` function to identify all of the solutions that are dominated by other solutions; the list of dominated solutions is *complementary* to the Pareto optimal solutions.  In particular, the `is_dominate()` function will look at the values of $\\rho$ and $\\eta$ stored in the `solutions` array and return the indices of all the entries of `solutions` that are dominated by at least one other entry in `solutions`.  Since the Pareto front is comprised only of solutions which are **not** dominated by any other solutions, we can identify the solutions on the Pareto front by deleting all of the solutions that are dominated by at least one other solution.  This deletion can be easily accomplished using `np.delete()` since we have the indices of the solutions we want to delete from the output of `is_dominated()`.  \n",
    "\n",
    "Note that the values of $\\eta$ are stored in the entries of column 4 of the solutions array (`solutions[:,3]`) and the $\\rho$ values are stored in the entries of column 5 of the solutions array (`solutions[:,4]`)."
   ]
  },
  {
   "cell_type": "code",
   "execution_count": null,
   "id": "5240aea6",
   "metadata": {},
   "outputs": [],
   "source": [
    "# get the indices of all solutions that are dominated by at least 1 other solution\n",
    "dominated_indices = is_dominated(solutions[:,3], solutions[:,4])\n",
    "\n",
    "# collect the Pareto front as the solutions which are *NOT* dominated by any others\n",
    "pareto_solutions = np.delete(solutions, dominated_indices, axis=0)\n"
   ]
  },
  {
   "cell_type": "markdown",
   "id": "1b3c8748",
   "metadata": {},
   "source": [
    "We will now look at the values of $\\eta$ and $\\rho$ for each of the randomly generated structures, and we will also identify the Pareto front of $\\eta$ and $\\rho$ values.  In these plots, the x-axis values are the $\\eta$ values and the y-axis values are the $\\rho$ values.  "
   ]
  },
  {
   "cell_type": "code",
   "execution_count": null,
   "id": "35195f95",
   "metadata": {},
   "outputs": [],
   "source": [
    "plt.plot(solutions[:,3], solutions[:,4], 'ro', label=\"All Solutions\")\n",
    "plt.plot(pareto_solutions[:,3],  pareto_solutions[:,4], 'bo', label=\"Pareto Front\")\n",
    "plt.xlabel(\"STPV Spectral Efficiency\")\n",
    "plt.ylabel(\"STPV Power Density (W/m^2)\")\n",
    "plt.legend()\n",
    "plt.show()"
   ]
  },
  {
   "cell_type": "markdown",
   "id": "2dbfc1d5",
   "metadata": {},
   "source": [
    "Now we will look at the solution on the Pareto front with the highest value of $\\eta$ and the solution with the highest value of $\\rho$ and plot the spectrum of both of them."
   ]
  },
  {
   "cell_type": "code",
   "execution_count": null,
   "id": "28e281ae",
   "metadata": {},
   "outputs": [],
   "source": [
    "# get the index of the solution with the largest value of \\eta\n",
    "max_eta_index = np.argmax(pareto_solutions[:,3])\n",
    "# get the index of the solution with the largest value of \\rho\n",
    "max_rho_index = np.argmax(pareto_solutions[:,4])\n",
    "\n",
    "# update the multilayer with the thicknesses of the solution that maximizes \\eta\n",
    "test.thickness_array[2:5] = pareto_solutions[max_eta_index,:3] * 1e-9\n",
    "test.compute_stpv()\n",
    "max_eta_spectrum = test.thermal_emission_array\n",
    "\n",
    "# get the \\eta and \\rho values from this structure \n",
    "# and double check they match the results in the pareto_solutions array\n",
    "max_eta_val = test.stpv_spectral_efficiency\n",
    "rho_val = test.stpv_power_density\n",
    "\n",
    "assert np.isclose(max_eta_val, pareto_solutions[max_eta_index, 3])\n",
    "assert np.isclose(rho_val, pareto_solutions[max_eta_index, 4])\n",
    "\n",
    "print(\" Details of the structure that maximizes the STPV Spectral Efficiency\")\n",
    "print(\" Thicknesses of layers 2-4:\", pareto_solutions[max_eta_index, 0], \n",
    "      pareto_solutions[max_eta_index, 1], \n",
    "      pareto_solutions[max_eta_index, 2])\n",
    "\n",
    "print(\" Spectral Efficiency (%):\", pareto_solutions[max_eta_index, 3] * 100)\n",
    "print(\" Power Density (W/m^2):\", pareto_solutions[max_eta_index, 4])\n",
    "\n",
    "# update the multilayer with the thicknesses of the solution that maximizes \\rho\n",
    "test.thickness_array[2:5] = pareto_solutions[max_rho_index,:3] * 1e-9\n",
    "test.compute_stpv()\n",
    "max_rho_spectrum = test.thermal_emission_array\n",
    "\n",
    "# get the \\eta and \\rho values from this structure \n",
    "# and double check they match the results in the pareto_slutions array\n",
    "max_rho_val = test.stpv_power_density\n",
    "eta_val = test.stpv_spectral_efficiency\n",
    "\n",
    "assert np.isclose(max_rho_val, pareto_solutions[max_rho_index,4])\n",
    "assert np.isclose(eta_val, pareto_solutions[max_rho_index, 3])\n",
    "\n",
    "print(\"\\n Details of the structure that maximizes the STPV Power Density\")\n",
    "print(\" Thicknesses of layers 2-4:\", pareto_solutions[max_rho_index, 0], \n",
    "      pareto_solutions[max_rho_index, 1], \n",
    "      pareto_solutions[max_rho_index, 2])\n",
    "\n",
    "print(\" Spectral Efficiency (%):\", pareto_solutions[max_rho_index, 3] * 100)\n",
    "print(\" Power Density (W/m^2):\", pareto_solutions[max_rho_index, 4])\n",
    "\n",
    "\n",
    "plt.plot(test.wavelength_array, max_eta_spectrum, 'blue', label=r\"Max $\\eta$\")\n",
    "plt.plot(test.wavelength_array, max_rho_spectrum, 'red', label=r\"Max $\\rho$\")\n",
    "plt.plot(test.wavelength_array, test.blackbody_spectrum, 'black', label=\"Blackbody Spectrum\")\n",
    "plt.ylabel(r\"Power density ($W/m^2$)\")\n",
    "plt.xlabel(r\"Wavelength (m)\")\n",
    "plt.legend()\n",
    "plt.show()\n",
    "\n",
    "\n"
   ]
  },
  {
   "cell_type": "code",
   "execution_count": null,
   "id": "f570d2c9",
   "metadata": {},
   "outputs": [],
   "source": []
  },
  {
   "cell_type": "code",
   "execution_count": null,
   "id": "7f379dee",
   "metadata": {},
   "outputs": [],
   "source": [
    "import numpy as np\n",
    "class MyBounds(object):\n",
    "      ### note xmax and xmin need to have as many elements as there are thicknesses that are varied\n",
    "    def __init__(self, xmax=30000.*np.ones(5), xmin=1.0*np.ones(5)):\n",
    "        self.xmax = np.array(xmax)\n",
    "        self.xmin = np.array(xmin)\n",
    "    def __call__(self, **kwargs):\n",
    "        x = kwargs[\"x_new\"]\n",
    "        tmax = bool(np.all(x <= self.xmax))\n",
    "        tmin = bool(np.all(x >= self.xmin))\n",
    "        return tmax and tmin\n",
    "\n"
   ]
  },
  {
   "cell_type": "code",
   "execution_count": null,
   "id": "f7379adf",
   "metadata": {},
   "outputs": [],
   "source": [
    "mybounds = MyBounds()"
   ]
  },
  {
   "cell_type": "code",
   "execution_count": null,
   "id": "871ed707",
   "metadata": {},
   "outputs": [],
   "source": [
    "print(mybounds.xmax)"
   ]
  },
  {
   "cell_type": "code",
   "execution_count": null,
   "id": "d4f3f625",
   "metadata": {},
   "outputs": [],
   "source": [
    "from numpy import arange\n",
    "from numpy import exp\n",
    "from numpy import sqrt\n",
    "from numpy import cos\n",
    "from numpy import e\n",
    "from numpy import pi\n",
    "from numpy import meshgrid\n",
    "from matplotlib import pyplot\n",
    "from mpl_toolkits.mplot3d import Axes3D\n",
    " \n",
    "# objective function\n",
    "def objective(x, y):\n",
    " return -20.0 * exp(-0.2 * sqrt(0.5 * (x**2 + y**2))) - exp(0.5 * (cos(2 * pi * x) + cos(2 * pi * y))) + e + 20\n",
    " \n",
    "# define range for input\n",
    "r_min, r_max = -5.0, 5.0\n",
    "# sample input range uniformly at 0.1 increments\n",
    "xaxis = arange(r_min, r_max, 0.1)\n",
    "yaxis = arange(r_min, r_max, 0.1)\n",
    "# create a mesh from the axis\n",
    "x, y = meshgrid(xaxis, yaxis)\n",
    "# compute targets\n",
    "results = objective(x, y)\n",
    "# create a surface plot with the jet color scheme\n",
    "figure = pyplot.figure()\n",
    "axis = figure.gca(projection='3d')\n",
    "axis.plot_surface(x, y, results, cmap='jet')\n",
    "# show the plot\n",
    "pyplot.show()"
   ]
  },
  {
   "cell_type": "code",
   "execution_count": null,
   "id": "428e561d",
   "metadata": {},
   "outputs": [],
   "source": [
    "# basin hopping global optimization for the ackley multimodal objective function\n",
    "from scipy.optimize import basinhopping\n",
    "from numpy.random import rand\n",
    "from numpy import exp\n",
    "from numpy import sqrt\n",
    "from numpy import cos\n",
    "from numpy import e\n",
    "from numpy import pi\n",
    " \n",
    "# objective function\n",
    "def objective(v):\n",
    " x, y = v\n",
    " return -20.0 * exp(-0.2 * sqrt(0.5 * (x**2 + y**2))) - exp(0.5 * (cos(2 * pi * x) + cos(2 * pi * y))) + e + 20\n",
    " \n",
    "# define range for input\n",
    "r_min, r_max = -5.0, 5.0\n",
    "# define the starting point as a random sample from the domain\n",
    "pt = r_min + rand(2) * (r_max - r_min)\n",
    "# perform the basin hopping search\n",
    "result = basinhopping(objective, pt, stepsize=0.5, niter=200)\n",
    "# summarize the result\n",
    "print('Status : %s' % result['message'])\n",
    "print('Total Evaluations: %d' % result['nfev'])\n",
    "# evaluate solution\n",
    "solution = result['x']\n",
    "evaluation = objective(solution)\n",
    "print('Solution: f(%s) = %.5f' % (solution, evaluation))"
   ]
  },
  {
   "cell_type": "code",
   "execution_count": null,
   "id": "cf3d5561",
   "metadata": {},
   "outputs": [],
   "source": [
    "_d = np.random.randint(-10, 10)"
   ]
  },
  {
   "cell_type": "code",
   "execution_count": null,
   "id": "e5ba8ab3",
   "metadata": {},
   "outputs": [],
   "source": [
    "print(_d)"
   ]
  },
  {
   "cell_type": "code",
   "execution_count": null,
   "id": "c3de01be",
   "metadata": {},
   "outputs": [],
   "source": []
  }
 ],
 "metadata": {
  "kernelspec": {
   "display_name": "Python 3 (ipykernel)",
   "language": "python",
   "name": "python3"
  },
  "language_info": {
   "codemirror_mode": {
    "name": "ipython",
    "version": 3
   },
   "file_extension": ".py",
   "mimetype": "text/x-python",
   "name": "python",
   "nbconvert_exporter": "python",
   "pygments_lexer": "ipython3",
   "version": "3.11.11"
  }
 },
 "nbformat": 4,
 "nbformat_minor": 5
}
