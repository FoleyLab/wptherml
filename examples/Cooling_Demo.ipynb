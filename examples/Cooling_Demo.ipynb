{
 "cells": [
  {
   "cell_type": "markdown",
   "id": "f7e155e3",
   "metadata": {},
   "source": [
    "# Radiative Cooling Demo\n",
    "This notebook will build the multi-layer structure described in Raman $et$ $al.$, Nature 515, 540-546 (2014), compute plot its emissivity in the solar region and in the atmospheric transmissivity region of the spectrum (~300-2500 nm for the former, 2500-20000 nm for the latter), and compute the cooling power for several different differences between the temperature of the structure and the ambient temperature.  \n",
    "\n",
    "Two differences between this notebook and the structure described in Raman $et$ $al.$ to note: (1) in this example, we terminate the multilayer at the optically thick Ag layer; the full structure described by Raman $et$ $al.$ involved was grown on a silicon substrate and included a thin (10 nm) titanium adhesion layer. Due to the very small skin depth of silver in the visible and IR, these layers make virtually no contribution to the optical properties of the stack.  To confirm there is negligible transmission through the terminal silver layer, one can plot the transmissivity of the multilayer by uncommenting the indicated lines below to confirm no visible or IR light is transmissited through the stack. (2) The refractive index data for materials described by Raman $et$ $al.$ are determined by ellipsometry on as-fabricated materials, and likely differ from the refractive index data employed by WPTherml. "
   ]
  },
  {
   "cell_type": "code",
   "execution_count": null,
   "id": "aa8f3369",
   "metadata": {},
   "outputs": [
    {
     "name": "stdout",
     "output_type": "stream",
     "text": [
      "1.0\n",
      " Your spectra have been computed! 😎 \n",
      " Your angle-dependent spectra have been computed! 😎 \n",
      " Your radiative cooling quantities have been computed! 😎 \n"
     ]
    }
   ],
   "source": [
    "import wptherml\n",
    "from matplotlib import pyplot as plt\n",
    "import numpy as np\n",
    "\n",
    "test_args = {\n",
    "    'Material_List': ['Air', 'SiO2', 'HfO2', 'SiO2', 'HfO2', 'SiO2', 'HfO2', 'SiO2', 'Ag', 'Air'],\n",
    "    'Thickness_List': [0, 230e-9, 485e-9, 688e-9, 13e-9, 73e-9, 34e-9, 54e-9, 200e-9, 0],\n",
    "    'Wavelength_List': [300e-9, 30000e-9, 2000], # note new name for this key\n",
    "    \"cooling\": True # note use of boolean not integer now\n",
    "}\n",
    "\n",
    "# start the spectrum factory\n",
    "sf = wptherml.SpectrumFactory()\n",
    "# create an instance using the TMM with the structure defined as above\n",
    "cool_ml = sf.spectrum_factory('Tmm', test_args)\n",
    "\n",
    "\n"
   ]
  },
  {
   "cell_type": "markdown",
   "id": "84b79a46",
   "metadata": {},
   "source": [
    "The instance `cool_ml` will have a number of attributes computed automatically when \n",
    "`cooling = True`, including\n",
    "the emissivity spectrum (`cool_ml.emissivity_array`), the reflectivity spectrum (`cool_ml.reflectivity_array`), and the transmissivity spectrum (`cool_ml.transmissivity_array`).  The data associated with the solar spectrum and the atmospheric transmissivity is stored as the attributes `cool_ml._solar_spectrum` and\n",
    "`cool_ml._atmospheric_transmissivity`, respectively.  We plot key spectra below."
   ]
  },
  {
   "cell_type": "code",
   "execution_count": null,
   "id": "e8626869",
   "metadata": {},
   "outputs": [],
   "source": [
    "### plot emissivity of cool_ml against AM1.5 spectrum in the visible range\n",
    "### to demonstrate the high solar reflectivity of cool_ml\n",
    "plt.plot(cool_ml.wavelength_array*1e9, cool_ml.emissivity_array, 'blue', label='Emissivity')\n",
    "plt.plot(cool_ml.wavelength_array*1e9, cool_ml._solar_spectrum/(1.4*1e9), 'red', label='AM1.5 Spectral Irradiance')\n",
    "plt.xlabel(\"Wavelength (nm)\")\n",
    "plt.ylabel(\"Arb. units\")\n",
    "plt.legend(loc = 'best')\n",
    "plt.xlim(300,2500)\n",
    "plt.show()\n",
    "\n",
    "### plot the emissivity of cool_ml against the atmospheric transmissivity in the IR\n",
    "### to demonstrate the selective thermal emissivity of cool_ml\n",
    "plt.plot(cool_ml.wavelength_array*1e9, cool_ml._atmospheric_transmissivity, 'cyan', label='Atmospheric Transparency')\n",
    "plt.plot(cool_ml.wavelength_array*1e9, cool_ml.emissivity_array, 'red', label='Emissivity')\n",
    "### Uncomment the next line if you want to plot the transmissivity of\n",
    "### the multilayer in the IR\n",
    "#plt.plot(cool_ml.lambda_array*1e9, cool_ml.transmissivity_array, 'green', label='Transmissivity')\n",
    "plt.xlabel(\"Wavelength (nm)\")\n",
    "plt.ylabel(\"Arb. units\")\n",
    "plt.legend(loc = 'best')\n",
    "plt.xlim(2500,20000)\n",
    "plt.ylim(0,1.25)\n",
    "plt.show()"
   ]
  },
  {
   "cell_type": "markdown",
   "id": "5972f96b",
   "metadata": {},
   "source": [
    "Let's look at the quantities $P_{rad}$, $P_{sun}$, $P_{atm}$, and $P_{cool}$, which are\n",
    "also computed and stored as attributes.\n",
    "- $P_{rad}$ is the power radiated from the structure to the sky, stored in the attribute `self.radiative_cooling_power`\n",
    "- $P_{sun}$ is the solar power absorbed by the structure, stored in the attribute `self.solar_warming_power`\n",
    "- $P_{atm}$ is the atmospheric radiation absorbed by the structure, stored in the attribute `self.atmospheric_warming_power`\n",
    "- $P_{cool} = P_{rad} - P_{sun} - P_{atm}$ is stored in `self.net_cooling_power`"
   ]
  },
  {
   "cell_type": "code",
   "execution_count": 6,
   "id": "f9bd9aec",
   "metadata": {},
   "outputs": [
    {
     "name": "stdout",
     "output_type": "stream",
     "text": [
      "P_rad is   123.133 W / m^2\n",
      "P_sun is    13.408 W / m^2\n",
      "P_atm is    37.509 W / m^2\n",
      "P_cool is   72.215 W / m^2\n"
     ]
    }
   ],
   "source": [
    "print(F\"P_rad is  {cool_ml.radiative_cooling_power:8.3f} W / m^2\")\n",
    "print(F\"P_sun is  {cool_ml.solar_warming_power:8.3f} W / m^2\")\n",
    "print(F\"P_atm is  {cool_ml.atmospheric_warming_power:8.3f} W / m^2\")\n",
    "print(F\"P_cool is {cool_ml.net_cooling_power:8.3f} W / m^2\")"
   ]
  },
  {
   "cell_type": "markdown",
   "id": "26820008",
   "metadata": {},
   "source": [
    "# Manipulating the structure: adding and removing layers"
   ]
  },
  {
   "cell_type": "markdown",
   "id": "0d04bec3",
   "metadata": {},
   "source": [
    "Let's say we want to insert a 100 nm layer in between layer 1 and layer 2, we can do so using the `.insert_layer(layer_number, layer_thickness)` method as \n",
    "with `layer_number = 2` and `layer_thickness=100e-9` as follows:"
   ]
  },
  {
   "cell_type": "code",
   "execution_count": null,
   "id": "0c87f325",
   "metadata": {},
   "outputs": [],
   "source": [
    "# print thickness list before adding layer\n",
    "ln = len(cool_ml.thickness_array)-1\n",
    "print(\" printing thickness array before inserting new layer\")\n",
    "print(cool_ml.thickness_array * 1e9)\n",
    "cool_ml.insert_layer(ln, 123e-9)\n",
    "print(\" printing thickness array after inserting new layer\")\n",
    "print(cool_ml.thickness_array * 1e9)"
   ]
  },
  {
   "cell_type": "markdown",
   "id": "f46ab5d2",
   "metadata": {},
   "source": [
    "Right now the new layer 2 is just vacuum (refractive index = 1+0i for all wavelengths).  We can associate layer 2 with a supported material using any of the `.material_X(layer_number)` methods.  To see the full list of supported materials, start typing `cool_ml.material_` and press tab to see options.  "
   ]
  },
  {
   "cell_type": "code",
   "execution_count": null,
   "id": "5779db69",
   "metadata": {},
   "outputs": [],
   "source": [
    "cool_ml.material_Al2O3(2)\n",
    "cool_ml.compute_cooling()"
   ]
  },
  {
   "cell_type": "code",
   "execution_count": null,
   "id": "9c7bb395",
   "metadata": {},
   "outputs": [],
   "source": [
    "print(\"P_rad is \",cool_ml.radiative_cooling_power)\n",
    "print(\"P_sun is \",cool_ml.solar_warming_power)\n",
    "print(\"P_atm is \",cool_ml.atmospheric_warming_power)\n",
    "print(\"P_cool is \",cool_ml.net_cooling_power)"
   ]
  },
  {
   "cell_type": "markdown",
   "id": "27edb1e3",
   "metadata": {},
   "source": [
    "# Custom materials \n",
    "You can add custom materials provided you have a refractive index data file in the directory `/wptherml/data` that contains as column 1 the wavelength in meters, in column 2 the real part of the refractive index, and as column 3 the imaginary part of the refractive index.  To define a layer with the refractive index data coming from a custom file, issue the `.material_from_file(layer_number, file_name)` argument.  Here we will use data stored in a file \"SiO2_ir.txt\" to define the material in layer 2."
   ]
  },
  {
   "cell_type": "code",
   "execution_count": null,
   "id": "fc92e9c3",
   "metadata": {},
   "outputs": [],
   "source": [
    "# go back to SiO2 for the top layer\n",
    "cool_ml.material_from_file(2, \"SiO2_ir.txt\")\n",
    "cool_ml.compute_cooling()"
   ]
  },
  {
   "cell_type": "code",
   "execution_count": null,
   "id": "e2aad5f5",
   "metadata": {},
   "outputs": [],
   "source": [
    "print(\"P_rad is \",cool_ml.radiative_cooling_power)\n",
    "print(\"P_sun is \",cool_ml.solar_warming_power)\n",
    "print(\"P_atm is \",cool_ml.atmospheric_warming_power)\n",
    "print(\"P_cool is \",cool_ml.net_cooling_power)"
   ]
  },
  {
   "cell_type": "markdown",
   "id": "2de622b2",
   "metadata": {},
   "source": [
    "We can also remove layers using the `.remove_layer(layer_number)` method.  Again, we will remove the layer we just added, returing us to the original stack."
   ]
  },
  {
   "cell_type": "code",
   "execution_count": null,
   "id": "8a758744",
   "metadata": {},
   "outputs": [],
   "source": [
    "# print thickness list before adding layer\n",
    "print(\" printing thickness array before removing layer 2\")\n",
    "print(cool_ml.thickness_array * 1e9)\n",
    "cool_ml.remove_layer(2)\n",
    "print(\" printing thickness array after removing layer 2\")\n",
    "print(cool_ml.thickness_array * 1e9)"
   ]
  },
  {
   "cell_type": "markdown",
   "id": "3cc737f4",
   "metadata": {},
   "source": [
    "# Manipulating the structure: Changing thickness of a single layer\n",
    "\n",
    "If you want to set the thickness of individual layers and then update the quantities (e.g. for brute-force searchers), you can access the layer thicknesses through the `.thickness_array` attribute, and you can issue the `.compute_cooling()` method to update all of the calculations after modifying the thickness.  The following line will update the thickness of layer 1 to be 150 nanometers, and then update and print the cooling figures of merit."
   ]
  },
  {
   "cell_type": "code",
   "execution_count": null,
   "id": "0e6bd6df",
   "metadata": {},
   "outputs": [],
   "source": [
    "cool_ml.thickness_array[1] = 100e-9\n",
    "cool_ml.compute_cooling()\n",
    "print(\"P_rad is \",cool_ml.radiative_cooling_power)\n",
    "print(\"P_sun is \",cool_ml.solar_warming_power)\n",
    "print(\"P_atm is \",cool_ml.atmospheric_warming_power)\n",
    "print(\"P_cool is \",cool_ml.net_cooling_power)"
   ]
  },
  {
   "cell_type": "markdown",
   "id": "a4877e72",
   "metadata": {},
   "source": [
    "# Manipulating the structure: Gradient-based optimization\n",
    "We have implemented analytic gradients of the transfer matrix equations, which also enables analytic gradients of figures of merit based on the reflectivity, emissivity, and/or transmissivity (see details [here](https://journals.aps.org/prresearch/abstract/10.1103/PhysRevResearch.2.013018)).  Here we have a high-level method called `.compute_cooling_gradient()` that will compute the gradients of $P_{cool}, P_{rad}, P_{sun}, P_{atm}$ with respect to the thickenss of each layer.  This can be used to do gradient-based local optimizations of structures for any of these desired figures of merit.  You can also leverage these in global optimizations that perform multiple gradient-based optimizations, with one example being the Basin Hopping algorithm.  Here we will demonstrate the local gradient-based optimization using the L-BFGS-B method, where this algorithm also supports upper- and lower-bounds on the layer thicknesses so that the structures geometries can be constrained to be realistic.  \n",
    "\n",
    "**These calculations are a bit slower than single evaluations, so run with care.**\n",
    "\n",
    "The gradient vectors for each of the radiative cooling quantities are stored in attributes as follows:\n",
    "\n",
    "$ P'_{cool} \\rightarrow$ `.net_cooling_power_gradient`\n",
    "\n",
    "$ P'_{rad} \\rightarrow$ `.radiative_cooling_power_gradient` \n",
    "\n",
    "$ P'_{sun} \\rightarrow$ `.solar_warming_power` \n",
    "\n",
    "$ P'_{atm} \\rightarrow$ `.atmospheric_warming_power`\n",
    "\n",
    "The L-BFGS-B algorithm can be accessed using the scipy.optimize library, and requires a callable function that returns the objective function to be optimized along with the gradient vector of the objective.  The following functions are implemented within this notebook in support of the L-BFGS-B updates:\n",
    "- `update_multilayer(x)` returns the objective function when given an array of layer thicknesses (expected in nanometers for this function)\n",
    "- `analytic_grad(x)` returns the gradient vector of the obective when given an array of layer thicknesses (expected in nanometers for this function); the gradient is scaled so that it is in per nm instead of per m.\n",
    "- `SuperFunc(x)` returns both the gradient vector and the objective function; this is the callable function that the L-BFGS-B routine will use\n"
   ]
  },
  {
   "cell_type": "code",
   "execution_count": null,
   "id": "45696e35",
   "metadata": {},
   "outputs": [],
   "source": [
    "from scipy.optimize import minimize\n",
    "from scipy.optimize import basinhopping\n",
    "import time\n",
    "\n",
    "test_args = {\n",
    "    'Material_List': ['Air', 'SiO2', 'HfO2', 'SiO2', 'HfO2', 'SiO2', 'HfO2', 'SiO2', 'Ag', 'Air'],\n",
    "    'Thickness_List': [0, 230e-9, 485e-9, 688e-9, 13e-9, 73e-9, 34e-9, 54e-9, 200e-9, 0],\n",
    "    'Wavelength_List': [300e-9, 60000e-9, 5000], # note new name for this key\n",
    "    \"cooling\": True # note use of boolean not integer now\n",
    "}\n",
    "\n",
    "# start the spectrum driver\n",
    "sf = wptherml.SpectrumFactory()\n",
    "# create an instance using the TMM with the structure defined as above\n",
    "cool_ml = sf.spectrum_factory('Tmm', test_args)\n",
    "\n",
    "def update_multilayer(x):\n",
    "    \"\"\" function to update the thicknesses of each layer given an\n",
    "        array of thicknesses stored in x\"\"\"\n",
    "    \n",
    "    cool_ml.thickness_array[1:cool_ml.number_of_layers-1] = x * 1e-9\n",
    "    cool_ml.compute_cooling()\n",
    "\n",
    "    ### return negative of cooling power - minimize functions want \n",
    "    ### to minimize, so trick them by passing negative of the objective you\n",
    "    ### want to maximize\n",
    "    return -cool_ml.net_cooling_power\n",
    "\n",
    "### given an array of thicknesses of the coating, update\n",
    "### the structure and compute the gradient vector of conversion efficiency wrt layer thicknesses\n",
    "def analytic_grad(x0):\n",
    "    cur = update_multilayer(x0)\n",
    "    cool_ml.compute_cooling_gradient()\n",
    "\n",
    "    g = cool_ml.net_cooling_power_gradient\n",
    "    ### scale gradient to be in nm^-1 rather than over m^-1\n",
    "    return -g*1e-9\n",
    "\n",
    "### Function that gets the negative of the efficiency and the \n",
    "### negative of the gradient for use in the l-bfgs-b algorithm\n",
    "### also prints out the time for timing purposes!\n",
    "def SuperFunc(x0):\n",
    "    en = update_multilayer(x0)\n",
    "    c_time = time.time()\n",
    "    if en<0:\n",
    "        print(\" This structure is net cooling with net power out being\",-en)\n",
    "    else:\n",
    "        print(\" This structure is net warming with net poer in being\",-en)\n",
    "    gr = analytic_grad(x0)\n",
    "    return en, gr\n",
    "\n",
    "# the bounds for L-BFGS-B updates!\n",
    "# minimum layer thickness is 1 nm\n",
    "bfgs_xmin = np.ones(cool_ml.number_of_layers-2)\n",
    "# maximum layer thickness is 400 nm\n",
    "bfgs_xmax = 400*np.ones(cool_ml.number_of_layers-2)\n",
    "\n",
    "# rewrite the bounds in the way required by L-BFGS-B\n",
    "bfgs_bounds = [(low, high) for low, high in zip(bfgs_xmin, bfgs_xmax)]\n",
    "\n",
    "### initialize the solution vector xs to be the thicknesses from \n",
    "### Raman et al. paper\n",
    "xs = np.array([230, 485, 688, 13, 73, 34, 54, 200])\n",
    "### print out initial solution vector and initial efficiency\n",
    "print(\"xs is \")\n",
    "print(xs)\n",
    "pflux = -update_multilayer(xs)\n",
    "if pflux>0:\n",
    "    print(\" This structure is net cooling with net power out being\",pflux)   \n",
    "else:\n",
    "    print(\" This structure is net warming with net poer in being\",pflux)\n",
    "\n",
    "\n",
    "### run l-bfgs-b algorithm!\n",
    "ret = minimize(SuperFunc, xs, method=\"L-BFGS-B\", jac=True, bounds=bfgs_bounds)\n",
    "\n",
    "### print optimal solution and its efficiency!\n",
    "print(ret.x)\n",
    "print(-update_multilayer(ret.x))"
   ]
  }
 ],
 "metadata": {
  "kernelspec": {
   "display_name": "Python 3 (ipykernel)",
   "language": "python",
   "name": "python3"
  },
  "language_info": {
   "codemirror_mode": {
    "name": "ipython",
    "version": 3
   },
   "file_extension": ".py",
   "mimetype": "text/x-python",
   "name": "python",
   "nbconvert_exporter": "python",
   "pygments_lexer": "ipython3",
   "version": "3.11.4"
  }
 },
 "nbformat": 4,
 "nbformat_minor": 5
}
