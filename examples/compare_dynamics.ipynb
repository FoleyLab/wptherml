{
 "cells": [
  {
   "cell_type": "code",
   "execution_count": 1,
   "id": "73f385e0",
   "metadata": {},
   "outputs": [],
   "source": [
    "import json\n",
    "\n"
   ]
  },
  {
   "cell_type": "code",
   "execution_count": 8,
   "id": "c5053c68",
   "metadata": {},
   "outputs": [
    {
     "name": "stdout",
     "output_type": "stream",
     "text": [
      "0.0\n"
     ]
    }
   ],
   "source": [
    "# Load the contents of the first JSON file into a dictionary\n",
    "with open('Jay_output.json', 'r') as f:\n",
    "    dict1 = json.load(f)\n",
    "\n",
    "# Load the contents of the second JSON file into a dictionary\n",
    "with open('Peyton_output.json', 'r') as f:\n",
    "    dict2 = json.load(f)\n",
    "\n",
    "# Compare the values numericall\n",
    "print(dict1[\"population_s1e_s2e_ce\"])"
   ]
  },
  {
   "cell_type": "code",
   "execution_count": 15,
   "id": "964c3e68",
   "metadata": {},
   "outputs": [
    {
     "name": "stdout",
     "output_type": "stream",
     "text": [
      "Jay vs Peytons population_s1g_s2g_cg is 0.000000 vs 0.000000\n",
      "Jay vs Peytons population_s1e_s2g_cg is 0.236010 vs 0.246463\n",
      "Jay vs Peytons population_s1g_s2e_cg is 0.264392 vs 0.500000\n",
      "Jay vs Peytons population_s1e_s2e_cg is 0.000000 vs 0.253537\n",
      "Jay vs Peytons population_s1g_s2g_ce is 0.499597 vs 0.000000\n",
      "Jay vs Peytons population_s1e_s2g_ce is 0.000000 vs 0.000000\n",
      "Jay vs Peytons population_s1g_s2e_ce is 0.000000 vs 0.000000\n",
      "Jay vs Peytons population_s1e_s2e_ce is 0.000000 vs 0.000000\n",
      "Jay sum populaltion is 0.9999999999999998\n",
      "Peyton sum populaltion is 0.9999999999999994\n"
     ]
    }
   ],
   "source": [
    "# Initialize a new dictionary to store the summed values\n",
    "jay_sum = 0\n",
    "peyton_sum = 0\n",
    "\n",
    "# Iterate through the keys in dict1\n",
    "for key in dict2:\n",
    "    if \"population\" in key:\n",
    "        # Sum the values from dict1 and dict2\n",
    "        jay_val = dict1[key]\n",
    "        peyton_val = dict2[key]\n",
    "        print(F\"Jay vs Peytons {key} is {jay_val:8.6f} vs {peyton_val:8.6f}\")\n",
    "        jay_sum += jay_val\n",
    "        peyton_sum += peyton_val\n",
    "\n",
    "print(F\"Jay sum populaltion is {jay_sum}\")\n",
    "print(F\"Peyton sum populaltion is {peyton_sum}\")"
   ]
  },
  {
   "cell_type": "code",
   "execution_count": null,
   "id": "56eee1aa",
   "metadata": {},
   "outputs": [],
   "source": []
  }
 ],
 "metadata": {
  "kernelspec": {
   "display_name": "Python 3",
   "language": "python",
   "name": "python3"
  },
  "language_info": {
   "codemirror_mode": {
    "name": "ipython",
    "version": 3
   },
   "file_extension": ".py",
   "mimetype": "text/x-python",
   "name": "python",
   "nbconvert_exporter": "python",
   "pygments_lexer": "ipython3",
   "version": "3.8.13"
  }
 },
 "nbformat": 4,
 "nbformat_minor": 5
}
