{
 "cells": [
  {
   "cell_type": "markdown",
   "id": "4c75256a",
   "metadata": {
    "id": "4c75256a"
   },
   "source": [
    "# Objective\n",
    "My current goal is to optimize the layer thicknesses in SiN/SiO2 mirrors such that the stopband is as spectrally broad as possible at a given center wavelength\n",
    "\n",
    "\n",
    "# Starting guess\n",
    "I'll assume the center of the reflection band is 4500 nm (2222 cm$^{-1}$), so we will start with quarter wave stacks.  \n",
    "\n",
    "We will base the guess thicknesses on using SiO2 ($n \\approx 1.5$) and Si3N4 ($n \\approx 2.04$) using\n",
    "$$ nd=\\frac{\\lambda}{4} \\rightarrow d = \\frac{\\lambda}{4n}$$\n",
    "\n",
    "with $\\lambda = 4500 n m$."
   ]
  },
  {
   "cell_type": "code",
   "execution_count": null,
   "id": "a7abd296",
   "metadata": {
    "id": "a7abd296"
   },
   "outputs": [],
   "source": [
    "import wptherml\n",
    "from matplotlib import pyplot as plt\n",
    "import numpy as np\n",
    "import time\n"
   ]
  },
  {
   "cell_type": "code",
   "execution_count": null,
   "id": "92c88b6b",
   "metadata": {
    "id": "92c88b6b"
   },
   "outputs": [],
   "source": [
    "# guess thickness for glass\n",
    "d1 = 4500e-9 / (4 * 1.5)\n",
    "# guess thickness for Si3N4\n",
    "d2 = 4500e-9 / (4 * 2.04)\n",
    "\n",
    "print(F\"Trial thickness of glass layer is {d1:.3e} m\")\n",
    "print(F\"Trial thickness of alumina layer is {d2:.3e} m\")"
   ]
  },
  {
   "cell_type": "markdown",
   "id": "3556eaa5",
   "metadata": {
    "id": "3556eaa5"
   },
   "source": [
    "# Structure specification\n",
    "We will set up a structure with 13 periods of alternating SiO2 and Al2O3 (26 layers total).\n",
    "To use the universal dispersion models for SiO2 and Al2O3, we will use the material keywords\n",
    "\"SiO2_UDM\" and \"Al2O3_UDM\".\n",
    "\n",
    "The spectra will be computed in the wavelength range $300 \\: nm - 6000 \\: nm$.  This wavelength range of the spectra and integral are set by the `wavelength_list` keywords.\n",
    "\n",
    "The structure composition is set by the `Material_List` keyword; you can subsitute any of the\n",
    "central layers by changing the chemical formula.  The materials you listed (Ag, Si3N4, SiO2, TiO2, Al2O3, Ta2O5, ZrO2) are all supported and can be specified by those strings in the Material_List.  The terminal layers (first and last) should remain \"Air\" and their thickness should be fixed at 0 for all calculation.\n",
    "\n",
    "The structure geometry is set by the `Thickness_List` keyword.\n",
    "\n",
    "\n",
    "# Objective functions\n",
    "We will set the desired window of high reflectivity to be between $2000 \\: cm^{-1} - 2400 \\: cm^{-1}$\n",
    "(equivalently, $4166 \\: nm - 5000 \\: nm$.)\n",
    "\n",
    "We will compute three different figures of merit that we will call the transmission efficiency ($\\eta_T$),\n",
    "reflection efficiency ($\\eta_R$), and reflection selectivity ($\\eta_{RS}$).  You can adjust the relative importance of these in your optimization using keys \"transmission_efficiency_weight\", \"reflection_efficiency_weight\", and \"reflection_selectivity_weight\".  The default is to give them equal weighting.\n",
    "\n",
    "We will define the transmission efficiency as\n",
    "\n",
    "$$ \\eta_T = \\frac{\\int_{\\lambda_1}^{\\lambda_2} \\Pi_T(\\lambda) T(\\lambda) d\\lambda }{\\int_{\\lambda_1}^{\\lambda_2} \\Pi_T(\\lambda) d\\lambda} $$\n",
    "where $T(\\lambda)$ is the transmission spectrum of the stack and $\\Pi_T(\\lambda)$ is the desired\n",
    "transmission envelope (defined to be 1 in the range specified by the `transmissive_window_nm` keyword and 0 elsewhere; note the user specifies this in units of nanometers.  The default is 350 - 700 nm).\n",
    "\n",
    "The reflection efficiency can be defined as\n",
    "$$ \\eta_R = \\frac{\\int_{\\lambda_1}^{\\lambda_2} \\Pi_R(\\lambda) R(\\lambda) d\\lambda }{\\int_{\\lambda_1}^{\\lambda_2} R(\\lambda) d\\lambda} $$\n",
    "where $R(\\lambda)$ is the reflection spectrum of the stack and $\\Pi_R(\\lambda)$ is the desired\n",
    "reflection envelope (defined to be 1 in the range specified by the `reflective_window_wn` keyword and 0 elsewhere,\n",
    "note the user specifies this in units of inverse centimeters.  The default is 2000 - 2400 $cm^{-1}$).\n",
    "\n",
    "\n",
    "The reflection selectivity can be defined as\n",
    "$$ \\eta_{RS} = \\frac{\\int_{\\lambda_1}^{\\lambda_2} \\Pi_R(\\lambda) R(\\lambda) d\\lambda }{\\int_{\\lambda_1}^{\\lambda_2} \\Pi_R(\\lambda) d\\lambda} $$\n",
    "where $R(\\lambda)$ is the reflection spectrum of the stack and $\\Pi_R(\\lambda)$ is the desired\n",
    "reflection envelope (defined to be 1 in the range specified by the `reflective_window_wn` keyword and 0 elsewhere,\n",
    "note the user specifies this in units of inverse centimeters.  The default is 2000 - 2400 $cm^{-1}$).\n",
    "\n",
    "The block below will create an instance of a DBR that we will call `test`.  \n",
    "\n",
    "We will call the method `test.compute_selective_mirror_fom()` to compute $\\eta_T$, $\\eta_R$, and $\\eta_{RS}$ as well as a\n",
    "composite figure of merit called `test.selective_mirror_fom` defined as $f =  \\alpha \\cdot \\eta_T + \\beta \\cdot \\eta_R + \\gamma \\cdot \\eta_{RS}$\n",
    "where $\\alpha$ is set by the keyword \"transmission_efficiency_weight\", $\\beta$ is set\n",
    "by the keyword \"reflection_efficiency_weight\", and $\\gamma$ is set by the keyword \"reflection_selectivity_weight\".  These values will be normalized\n",
    "automatically so that $\\alpha + \\beta + \\gamma = 1$.\n",
    "\n",
    "# Gradients\n",
    "We can compute gradients of the objectives, which are vectors with the length of\n",
    "the number of layers.  Take for example the gradient for the transmission efficiency, ${\\bf g}$, which\n",
    "has elements defined as\n",
    "\\begin{equation}\n",
    "g_i = \\frac{\\partial \\eta_T}{\\partial d_i}\n",
    "\\end{equation}\n",
    "where $d_i$ is the thickness of layer $i$.  We can compute these gradients by calling `test.compute_selective_mirror_fom_gradient()`, and the gradients will be stored as follows:\n",
    "\n",
    "- Transmission efficiency gradient: `test.transmission_efficiency_gradient`\n",
    "- Reflection efficiency gradient: `test.reflection_efficiency_gradient`\n",
    "- Reflection selectivity gradient: `test.reflection_selectivity_gradient`\n",
    "- Selective mirror figure of merit gradient: `test.selective_mirror_fom_gradient`\n",
    "\n",
    "Where again we will use the weights defined by $\\alpha$, $\\beta$ and $\\gamma$ that are specified by the user (and default to 1/3 for each).\n",
    "\n",
    "The block below will create a dielectric mirror with 18 layers (9 repeats of SiO2/Si3N4) using the guess thicknesses from above, compute the \n",
    "figures of merit, the gradient of these figures of merit, and plot the reflectance spectra against the desired window in wavelength (converted in plot from meters to nm) and wavenumber (converted in plot from inverse meters to inverse centimeters)."
   ]
  },
  {
   "cell_type": "code",
   "execution_count": null,
   "id": "50fcfdd5",
   "metadata": {
    "id": "50fcfdd5"
   },
   "outputs": [],
   "source": [
    "\n",
    "test_args = {\n",
    "    \"wavelength_list\": [300e-9, 6000e-9, 1000],\n",
    "    \"Material_List\": [\"Air\",\n",
    "                      \"SiO2\", \"Si3N4\", \"SiO2\", \"Si3N4\",\"SiO2\", \"Si3N4\",\n",
    "                      \"SiO2\", \"Si3N4\",\"SiO2\", \"Si3N4\",\"SiO2\", \"Si3N4\",\n",
    "                      \"SiO2\", \"Si3N4\",\"SiO2\", \"Si3N4\",\"SiO2\", \"Si3N4\",\n",
    "                      \"Air\"],\n",
    "    \"Thickness_List\": [0,\n",
    "                       d1, d2, d1, d2, d1, d2,\n",
    "                       d1, d2, d1, d2, d1, d2,\n",
    "                       d1, d2, d1, d2, d1, d2,\n",
    "                       0],\n",
    "    \"reflective_window_wn\" : [2000, 2400],\n",
    "    \"transmissive_window_nm\" : [350, 700],\n",
    "    \"transmission_efficiency_weight\" : 0.0,\n",
    "    \"reflection_efficiency_weight\" : 0.5,\n",
    "    \"reflection_selectivity_weight\" : 0.5,\n",
    " }\n",
    "\n",
    "sf = wptherml.SpectrumFactory()\n",
    "\n",
    "\n",
    "# create an instance of the DBR called test\n",
    "test = sf.spectrum_factory('Tmm', test_args)\n",
    "\n",
    "# plot of reflectivity vs wavelength in meters\n",
    "plt.plot(test.wavelength_array * 1e9, test.reflectivity_array, label=\"R\")\n",
    "plt.plot(test.wavelength_array * 1e9, test.reflective_envelope, label=\"desired window\")\n",
    "plt.xlim(1000, 6000)\n",
    "plt.xlabel(\"Wavelength (nm)\")\n",
    "plt.legend()\n",
    "plt.show()\n",
    "\n",
    "# plot of reflectivity vs wavenumber in cm^-1\n",
    "plt.plot(test.wavenumber_array * 1e-2, test.reflectivity_array, label=\"R\")\n",
    "plt.plot(test.wavenumber_array * 1e-2, test.reflective_envelope, label=\"desired window\")\n",
    "plt.xlim(1800, 4000)\n",
    "plt.xlabel(\"Wavenumber (cm^-1)\")\n",
    "plt.legend()\n",
    "plt.show()\n",
    "\n",
    "# compute the foms\n",
    "test.compute_selective_mirror_fom()\n",
    "\n",
    "# compute the gradient of the foms - this is slower than computing the FOM itself\n",
    "test.compute_selective_mirror_fom_gradient()\n",
    "\n",
    "print(F'Reflection Efficiency is {100 * test.reflection_efficiency:.2f} %')\n",
    "print(F'Reflection Selectivity is {100 * test.reflection_selectivity:.2f} %')\n",
    "print(F'Transmission Efficiency is {100 * test.transmission_efficiency:.2f} %')\n",
    "print(F'Composite FOM is {100 * test.selective_mirror_fom:.2f} %')\n",
    "\n",
    "\n",
    "\n"
   ]
  },
  {
   "cell_type": "markdown",
   "id": "ef926311-5a65-4f4e-b4ad-55177f2c4365",
   "metadata": {},
   "source": [
    "Now we will set up an optimization.  We will create an instances of the OptDriver class and then call one of it's optimization methods.\n",
    "\n",
    "For local optimizations, call the `optimize_bfgs` method.  These are typically fairly short calculations, of course it will depend on the number of layers you want to optimize, but ~20 layers will take a few minutes.\n",
    "\n",
    "To attempt a global optimization, call the `optimize_basin_hopping` method.  This will run many local optimizations with some random perturbations to the geometry in between each one, these can take many hours to days depending on the number of layers and the options.\n"
   ]
  },
  {
   "cell_type": "code",
   "execution_count": null,
   "id": "b5e5302c-3c0b-4d0b-8b8b-d46c928be36b",
   "metadata": {},
   "outputs": [],
   "source": [
    "# create an instance of the OptDriver class called opt_test\n",
    "opt_test = sf.spectrum_factory(\"Opt\", test_args)\n",
    "\n",
    "# run the optimize_bfgs method - results will be captured in opt_results, but they will \n",
    "# also be accessible as attributes of the instance opt_test.\n",
    "opt_results = opt_test.optimize_bfgs()\n",
    "\n",
    "# global optimziation can be run with the optimize_basin_hopping method\n",
    "# this can take much longer, uncomment and run if you have time to wait!\n",
    "#opt_results = opt_test.optimize_basin_hopping()"
   ]
  },
  {
   "cell_type": "markdown",
   "id": "181fface-dcab-4522-8274-1f7568955ae6",
   "metadata": {},
   "source": [
    "Now we can look at the original spectra associated with the instance `test` and the optimized spectra associated with `opt_test`.  We can also print the updated list of thicknesses and their associated materials (the materials are fixed, only the thicknesses change)."
   ]
  },
  {
   "cell_type": "code",
   "execution_count": null,
   "id": "f73eb7c0-da94-4881-ad73-f8334c4e401b",
   "metadata": {},
   "outputs": [],
   "source": [
    "plt.plot(test.wavelength_array * 1e9, test.reflectivity_array, label=\"R Original\")\n",
    "plt.plot(opt_test.wavelength_array * 1e9, opt_test.reflectivity_array, label=\"R Optimized\")\n",
    "plt.plot(test.wavelength_array * 1e9, test.reflective_envelope, label=\"desired window\")\n",
    "plt.xlim(1000, 6000)\n",
    "plt.xlabel(\"Wavelength (nm)\")\n",
    "plt.legend()\n",
    "plt.show()\n",
    "\n",
    "# plot of reflectivity vs wavenumber in cm^-1\n",
    "plt.plot(test.wavenumber_array * 1e-2, test.reflectivity_array, label=\"R Original\")\n",
    "plt.plot(opt_test.wavenumber_array * 1e-2, opt_test.reflectivity_array, label=\"R Optimized\")\n",
    "plt.plot(test.wavenumber_array * 1e-2, test.reflective_envelope, label=\"desired window\")\n",
    "plt.xlim(1800, 4000)\n",
    "plt.xlabel(\"Wavenumber (cm^-1)\")\n",
    "plt.legend()\n",
    "plt.show()\n",
    "\n",
    "print(\"List of materials by layer (incident side first)\")\n",
    "print(test.material_array)\n",
    "print(\"Original list of layer thicknesses (incident side first)\")\n",
    "print(test.thickness_array)\n",
    "print(\"Optimized list of layer thicknesses (incident side first)\")\n",
    "print(opt_test.thickness_array)"
   ]
  },
  {
   "cell_type": "markdown",
   "id": "0be91508",
   "metadata": {
    "id": "0be91508"
   },
   "source": [
    "Plots of reflectance, transmittance, and absorbance just for fun!"
   ]
  },
  {
   "cell_type": "code",
   "execution_count": null,
   "id": "d41858f6",
   "metadata": {
    "id": "d41858f6"
   },
   "outputs": [],
   "source": [
    "\n",
    "plt.plot(opt_test.wavenumber_array * 1e-2, opt_test.transmissive_envelope, label='T window')\n",
    "plt.plot(opt_test.wavenumber_array * 1e-2, opt_test.reflective_envelope, label='R window')\n",
    "plt.plot(opt_test.wavenumber_array * 1e-2, opt_test.transmissivity_array, label='T')\n",
    "plt.plot(opt_test.wavenumber_array * 1e-2, opt_test.reflectivity_array, label='R')\n",
    "plt.plot(opt_test.wavenumber_array * 1e-2, opt_test.emissivity_array, label='A')\n",
    "plt.legend()"
   ]
  },
  {
   "cell_type": "code",
   "execution_count": null,
   "id": "80a44f05",
   "metadata": {
    "id": "80a44f05"
   },
   "outputs": [],
   "source": [
    "plt.plot(opt_test.wavelength_array, opt_test.transmissive_envelope, label='T window')\n",
    "plt.plot(opt_test.wavelength_array, opt_test.reflective_envelope, label='R window')\n",
    "plt.plot(opt_test.wavelength_array, opt_test.transmissivity_array, label='T')\n",
    "plt.plot(opt_test.wavelength_array, opt_test.reflectivity_array, label='R')\n",
    "plt.plot(opt_test.wavelength_array, opt_test.emissivity_array, label='A')\n",
    "plt.legend()\n",
    "\n"
   ]
  }
 ],
 "metadata": {
  "colab": {
   "provenance": []
  },
  "kernelspec": {
   "display_name": "Python 3 (ipykernel)",
   "language": "python",
   "name": "python3"
  },
  "language_info": {
   "codemirror_mode": {
    "name": "ipython",
    "version": 3
   },
   "file_extension": ".py",
   "mimetype": "text/x-python",
   "name": "python",
   "nbconvert_exporter": "python",
   "pygments_lexer": "ipython3",
   "version": "3.8.13"
  }
 },
 "nbformat": 4,
 "nbformat_minor": 5
}
