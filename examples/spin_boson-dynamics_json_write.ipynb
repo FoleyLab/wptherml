{
 "cells": [
  {
   "cell_type": "code",
   "execution_count": 19,
   "id": "d5979e95",
   "metadata": {},
   "outputs": [
    {
     "name": "stdout",
     "output_type": "stream",
     "text": [
      "Energy Eigenvalues in atomic units are\n",
      "[0.25       0.73269285 0.75       0.76730715 1.23269285 1.25\n",
      " 1.26730715 1.75      ]\n",
      "Energy eigenvalues in eV are\n",
      "[ 6.80284656 19.93758826 20.40853968 20.87949111 33.54328138 34.01423281\n",
      " 34.48518423 47.61992593]\n"
     ]
    }
   ],
   "source": [
    "import wptherml\n",
    "from matplotlib import pyplot as plt\n",
    "import numpy as np\n",
    "\n",
    "\n",
    "\n",
    "peyton_args = {\n",
    "     \"Number_of_Excitons\": 2,\n",
    "     \"number_of_boson_levels\": 2,\n",
    "     \"boson_energy_ev\": 0.5 / 3.6749322175665e-2, #0375 / 3.6749322175665e-2,\n",
    "     \"exciton_energy_ev\" : 0.5 / 3.6749322175665e-2, #0375 / 3.6749322175665e-2,\n",
    "     \"exciton_boson_coupling_ev\" : 0.012238 / 3.6749322175665e-2,\n",
    "     \"boson_spontaneous_emission_rate_mev\" : 0.0, #0.15e3,\n",
    "     \"exciton_spontaneous_emission_rate_mev\" : 0.,\n",
    "     \"exciton_dephasing_rate_mev\" : 0.,\n",
    "     \"time_step_au\" : 1.0\n",
    "    \n",
    "}\n",
    "\n",
    "sf = wptherml.SpectrumFactory()\n",
    "\n",
    "# instantiate cases\n",
    "test_1 = sf.spectrum_factory(\"Spin-Boson\", peyton_args)"
   ]
  },
  {
   "cell_type": "markdown",
   "id": "475615c1",
   "metadata": {},
   "source": [
    "Now that we have built the Hamiltonian and diagonalized it, we will do some basic checks of the solutions.\n",
    "In particular, we will print out the eigenvectors for the first few states, and we will test to make sure that the bra-ket with the Hamiltonian and a particular eigenstate is exactly equal to the corresponding eigenvalue of that state, e.g.\n",
    "\n",
    "$$ \\langle \\psi_3 | \\hat{H} | \\psi_3\\rangle = E_3 $$"
   ]
  },
  {
   "cell_type": "code",
   "execution_count": 27,
   "id": "0ec79462",
   "metadata": {},
   "outputs": [],
   "source": [
    "# set the spin spontaneous emission rate consisten with Peytons of 5e-7\n",
    "test_1.exciton_spontaneous_emission_rate_au = 5e-7\n",
    "\n",
    "# set the spin dephasing rate consisten with Peytons 1e-9\n",
    "test_1.exciton_dephasing_rate_au = 1e-9"
   ]
  },
  {
   "cell_type": "code",
   "execution_count": 28,
   "id": "d91083c7",
   "metadata": {},
   "outputs": [
    {
     "name": "stdout",
     "output_type": "stream",
     "text": [
      "[1. 0. 0. 0. 0. 0. 0. 0.]\n",
      "[ 0.          0.5         0.5         0.         -0.70710678  0.\n",
      "  0.          0.        ]\n",
      "[-0.00000000e+00  7.07106781e-01 -7.07106781e-01  0.00000000e+00\n",
      "  9.99200722e-16 -0.00000000e+00 -0.00000000e+00 -0.00000000e+00]\n",
      "[0.         0.5        0.5        0.         0.70710678 0.\n",
      " 0.         0.        ]\n",
      "Checking to see if <\\psi_3 | H | \\psi_3> is the same as the eigenvalue of the third excited state\n",
      "True\n"
     ]
    }
   ],
   "source": [
    "# print ground state eigenvector\n",
    "print(test_1.energy_eigenvectors[:,0])\n",
    "# print first excited state eigenvector\n",
    "print(test_1.energy_eigenvectors[:,1])\n",
    "# print second excited state eigenvector\n",
    "print(test_1.energy_eigenvectors[:,2])\n",
    "# print third excited state eigenvector\n",
    "print(test_1.energy_eigenvectors[:,3])\n",
    "    \n",
    "\n",
    "# compute expectation value of energy of third excited state\n",
    "# get ket and bra of \\psi_3\n",
    "ket = test_1.energy_eigenvectors[:,3].reshape(-1,1)\n",
    "bra = np.conj(ket).T\n",
    "\n",
    "# store Hamiltonian \n",
    "HP = test_1.hamiltonian_matrix\n",
    "\n",
    "# compute <\\psi_3 | H | \\psi_3>\n",
    "exp_psi3 = np.dot(bra, np.dot(HP, ket))\n",
    "\n",
    "# check that it is thesame as eigenvalue of third excited state\n",
    "print(\"Checking to see if <\\psi_3 | H | \\psi_3> is the same as the eigenvalue of the third excited state\")\n",
    "print(np.isclose(exp_psi3[0,0], test_1.energy_eigenvalues[3]))\n"
   ]
  },
  {
   "cell_type": "markdown",
   "id": "7067c2d8",
   "metadata": {},
   "source": [
    "Now we will initialize the state as $|gge\\rangle$ where the cavity is in the ground state, the first spin is in the ground state, and the second spin is in the excited state.  We will compute the dynamics and store the populations after 1000 time stetps."
   ]
  },
  {
   "cell_type": "code",
   "execution_count": 29,
   "id": "493776ea",
   "metadata": {},
   "outputs": [
    {
     "name": "stdout",
     "output_type": "stream",
     "text": [
      "Initial state\n",
      "[[0]\n",
      " [1]\n",
      " [0]\n",
      " [0]\n",
      " [0]\n",
      " [0]\n",
      " [0]\n",
      " [0]]\n",
      "Initial density matrix\n",
      "[[0 0 0 0 0 0 0 0]\n",
      " [0 1 0 0 0 0 0 0]\n",
      " [0 0 0 0 0 0 0 0]\n",
      " [0 0 0 0 0 0 0 0]\n",
      " [0 0 0 0 0 0 0 0]\n",
      " [0 0 0 0 0 0 0 0]\n",
      " [0 0 0 0 0 0 0 0]\n",
      " [0 0 0 0 0 0 0 0]]\n"
     ]
    }
   ],
   "source": [
    "initial_cav = np.array([[1],[0]])\n",
    "initial_sp1 = np.array([[1],[0]])\n",
    "initial_sp2 = np.array([[0],[1]])\n",
    "\n",
    "# construct initial composite state\n",
    "initial_ket = np.kron(np.kron(initial_cav, initial_sp1), initial_sp2)\n",
    "\n",
    "print(\"Initial state\")\n",
    "print(initial_ket)\n",
    "\n",
    "# compute initial density matrix of composite system\n",
    "initial_rho = np.dot(initial_ket, np.conj(initial_ket).T)\n",
    "\n",
    "# print initial rho\n",
    "print(\"Initial density matrix\")\n",
    "print(initial_rho)"
   ]
  },
  {
   "cell_type": "code",
   "execution_count": 30,
   "id": "693c52d5",
   "metadata": {},
   "outputs": [
    {
     "name": "stdout",
     "output_type": "stream",
     "text": [
      "Final density matrix\n",
      "[[ 3.74716950e-04+0.j          0.00000000e+00+0.j\n",
      "   0.00000000e+00+0.j          0.00000000e+00+0.j\n",
      "   0.00000000e+00+0.j          0.00000000e+00+0.j\n",
      "   0.00000000e+00+0.j          0.00000000e+00+0.j        ]\n",
      " [ 0.00000000e+00+0.j          2.64265844e-01+0.j\n",
      "  -2.49673313e-01+0.j          0.00000000e+00+0.j\n",
      "   0.00000000e+00-0.36330881j  0.00000000e+00+0.j\n",
      "   0.00000000e+00+0.j          0.00000000e+00+0.j        ]\n",
      " [ 0.00000000e+00+0.j         -2.49673313e-01+0.j\n",
      "   2.35887155e-01+0.j          0.00000000e+00+0.j\n",
      "   0.00000000e+00+0.34324775j  0.00000000e+00+0.j\n",
      "   0.00000000e+00+0.j          0.00000000e+00+0.j        ]\n",
      " [ 0.00000000e+00+0.j          0.00000000e+00+0.j\n",
      "   0.00000000e+00+0.j          0.00000000e+00+0.j\n",
      "   0.00000000e+00+0.j          0.00000000e+00+0.j\n",
      "   0.00000000e+00+0.j          0.00000000e+00+0.j        ]\n",
      " [ 0.00000000e+00+0.j          0.00000000e+00+0.36330881j\n",
      "   0.00000000e+00-0.34324775j  0.00000000e+00+0.j\n",
      "   4.99472284e-01+0.j          0.00000000e+00+0.j\n",
      "   0.00000000e+00+0.j          0.00000000e+00+0.j        ]\n",
      " [ 0.00000000e+00+0.j          0.00000000e+00+0.j\n",
      "   0.00000000e+00+0.j          0.00000000e+00+0.j\n",
      "   0.00000000e+00+0.j          0.00000000e+00+0.j\n",
      "   0.00000000e+00+0.j          0.00000000e+00+0.j        ]\n",
      " [ 0.00000000e+00+0.j          0.00000000e+00+0.j\n",
      "   0.00000000e+00+0.j          0.00000000e+00+0.j\n",
      "   0.00000000e+00+0.j          0.00000000e+00+0.j\n",
      "   0.00000000e+00+0.j          0.00000000e+00+0.j        ]\n",
      " [ 0.00000000e+00+0.j          0.00000000e+00+0.j\n",
      "   0.00000000e+00+0.j          0.00000000e+00+0.j\n",
      "   0.00000000e+00+0.j          0.00000000e+00+0.j\n",
      "   0.00000000e+00+0.j          0.00000000e+00+0.j        ]]\n"
     ]
    }
   ],
   "source": [
    "# set initial density matrix\n",
    "test_1.rho = initial_rho\n",
    "\n",
    "for i in range(1000):\n",
    "    test_1.rk4_update_on_rho()\n",
    "\n",
    "\n",
    "print(\"Final density matrix\")\n",
    "print(test_1.rho)\n",
    "    "
   ]
  },
  {
   "cell_type": "code",
   "execution_count": 31,
   "id": "52d6ce1e",
   "metadata": {},
   "outputs": [],
   "source": [
    "# create new dictionary to store calculation data\n",
    "TC_data = {\n",
    "\n",
    "    \"spin_1_initial_state\" : [1, 0],\n",
    "    \"spin_2_initial_state\" : [0, 1],\n",
    "    \"cavity_initial_state\" : [1, 0],\n",
    "    \"spin_frequency\" : 0.5,\n",
    "    \"cavity_frequency\" : 0.5,\n",
    "    \"cavity_coupling\" : 0.02,\n",
    "    \"cavity_spontaneous_emission\" : 0,\n",
    "    \"spin_spontaneous_emission\" : 5e-7,\n",
    "    \"cavity_dephasing\" : 0,\n",
    "    \"spin_dephasing\" : 1e-9,\n",
    "    \"time_steps\" : 1000,\n",
    "    \"time_step_size\" : 1.0,\n",
    "    \"population_s1g_s2g_cg\" : [],\n",
    "    \"population_s1e_s2g_cg\" : [],\n",
    "    \"population_s1g_s2e_cg\" : [],\n",
    "    \"population_s1e_s2e_cg\" : [],\n",
    "    \"population_s1g_s2g_ce\" : [],\n",
    "    \"population_s1e_s2g_ce\" : [],\n",
    "    \"population_s1g_s2e_ce\" : [],\n",
    "    \"population_s1e_s2e_ce\" : [],\n",
    "}\n",
    "\n",
    "\n",
    "\n",
    "# run dynamics and store the results in the dictionary\n",
    "TC_data[\"population_s1g_s2g_cg\"] = np.real(test_1.rho[0,0])\n",
    "TC_data[\"population_s1g_s2e_cg\"] = np.real(test_1.rho[1,1])\n",
    "TC_data[\"population_s1e_s2g_cg\"] = np.real(test_1.rho[2,2])\n",
    "TC_data[\"population_s1e_s2e_cg\"] = np.real(test_1.rho[3,3])\n",
    "TC_data[\"population_s1g_s2g_ce\"] = np.real(test_1.rho[4,4])\n",
    "TC_data[\"population_s1g_s2e_ce\"] = np.real(test_1.rho[5,5])\n",
    "TC_data[\"population_s1e_s2g_ce\"] = np.real(test_1.rho[6,6])\n",
    "TC_data[\"population_s1e_s2e_ce\"] = np.real(test_1.rho[7,7])"
   ]
  },
  {
   "cell_type": "code",
   "execution_count": 32,
   "id": "465033a2",
   "metadata": {},
   "outputs": [],
   "source": [
    "import json\n",
    "# write the data to a JSON file\n",
    "def write_to_json(data, filename):\n",
    "    with open(filename, 'w') as json_file:\n",
    "        json.dump(data, json_file, indent=4)\n",
    "\n",
    "def create_output_filename(dictionary):\n",
    "    # define output file name based on the parameters of the simulation\n",
    "    output_filename = \"TC_simulation_\"\n",
    "    output_filename += \"spin_freq_\" + str(dictionary[\"spin_frequency\"]) + \"_\"\n",
    "    output_filename += \"cavity_freq_\" + str(dictionary[\"cavity_frequency\"]) + \"_\"\n",
    "    output_filename += \"cavity_coupling_\" + str(dictionary[\"cavity_coupling\"]) + \"_\"\n",
    "    output_filename += \"cavity_spontaneous_emission_\" + str(dictionary[\"cavity_spontaneous_emission\"]) + \"_\"\n",
    "    output_filename += \"spin_spontaneous_emission_\" + str(dictionary[\"spin_spontaneous_emission\"]) + \"_\"\n",
    "    output_filename += \"cavity_dephasing_\" + str(dictionary[\"cavity_dephasing\"]) + \"_\"\n",
    "    output_filename += \"spin_dephasing_\" + str(dictionary[\"spin_dephasing\"]) + \".json\"\n",
    "    return output_filename\n",
    "\n",
    "output_filename = create_output_filename(TC_data)\n",
    "\n",
    "write_to_json(TC_data, output_filename)"
   ]
  },
  {
   "cell_type": "code",
   "execution_count": 33,
   "id": "df2248a4",
   "metadata": {},
   "outputs": [
    {
     "name": "stdout",
     "output_type": "stream",
     "text": [
      "(1+0j)\n"
     ]
    }
   ],
   "source": [
    "print(np.trace(test_1.rho))"
   ]
  },
  {
   "cell_type": "code",
   "execution_count": 18,
   "id": "763d1851",
   "metadata": {},
   "outputs": [
    {
     "name": "stdout",
     "output_type": "stream",
     "text": [
      "0.9999999999999998\n"
     ]
    }
   ],
   "source": [
    "p = 0.4017711449000221 + 0.11334977116080829 + 0.13513205050371 + 0.3497470334354594\n",
    "print(p)"
   ]
  },
  {
   "cell_type": "code",
   "execution_count": null,
   "id": "d5f582bd",
   "metadata": {},
   "outputs": [],
   "source": []
  }
 ],
 "metadata": {
  "kernelspec": {
   "display_name": "Python 3 (ipykernel)",
   "language": "python",
   "name": "python3"
  },
  "language_info": {
   "codemirror_mode": {
    "name": "ipython",
    "version": 3
   },
   "file_extension": ".py",
   "mimetype": "text/x-python",
   "name": "python",
   "nbconvert_exporter": "python",
   "pygments_lexer": "ipython3",
   "version": "3.8.13"
  }
 },
 "nbformat": 4,
 "nbformat_minor": 5
}
